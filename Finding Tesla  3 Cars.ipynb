{
 "cells": [
  {
   "cell_type": "code",
   "execution_count": 1,
   "metadata": {},
   "outputs": [],
   "source": [
    "import pandas as pd\n",
    "from matplotlib import pyplot as plt\n",
    "from scipy import stats\n",
    "import numpy as np\n",
    "import seaborn as sns"
   ]
  },
  {
   "cell_type": "code",
   "execution_count": 2,
   "metadata": {},
   "outputs": [],
   "source": [
    "#changong data types to datetime format for users table\n",
    "#dropping sessions with requests higher than 90 kWh (there are no cars with batteries bigger than 90 kWh)\n",
    "\n",
    "users_to_clean = pd.read_csv('./data/users.csv')\n",
    "users_to_clean['Modified'] = pd.to_datetime(users_to_clean.modifiedAt, infer_datetime_format=True)  \n",
    "users_to_clean['Departure'] = pd.to_datetime(users_to_clean.requestedDeparture, infer_datetime_format=True)\n",
    "\n",
    "users_drop = users_to_clean.drop(columns = ['requestedDeparture', 'modifiedAt', 'Unnamed: 0'])\n",
    "users = users_drop[users_drop.kWhRequested <= 90]\n",
    "\n",
    "\n",
    "#changing data types to datetime format for users table\n",
    "\n",
    "charging_to_clean = pd.read_csv('./data/charging.csv')\n",
    "charging_to_clean['ConnectionTime'] = pd.to_datetime(charging_to_clean.connectionTime, infer_datetime_format=True) \n",
    "charging_to_clean['DisconnectTime'] = pd.to_datetime(charging_to_clean.disconnectTime, infer_datetime_format=True) \n",
    "charging_to_clean['DoneCharging'] = pd.to_datetime(charging_to_clean.doneChargingTime, infer_datetime_format=True) \n",
    "\n",
    "charging = charging_to_clean.drop(columns = ['connectionTime', 'disconnectTime', 'doneChargingTime', 'Unnamed: 0'])"
   ]
  },
  {
   "cell_type": "code",
   "execution_count": 16,
   "metadata": {},
   "outputs": [
    {
     "data": {
      "text/html": [
       "<div>\n",
       "<style scoped>\n",
       "    .dataframe tbody tr th:only-of-type {\n",
       "        vertical-align: middle;\n",
       "    }\n",
       "\n",
       "    .dataframe tbody tr th {\n",
       "        vertical-align: top;\n",
       "    }\n",
       "\n",
       "    .dataframe thead th {\n",
       "        text-align: right;\n",
       "    }\n",
       "</style>\n",
       "<table border=\"1\" class=\"dataframe\">\n",
       "  <thead>\n",
       "    <tr style=\"text-align: right;\">\n",
       "      <th></th>\n",
       "      <th>clusterID</th>\n",
       "      <th>kWhDelivered</th>\n",
       "      <th>siteID</th>\n",
       "      <th>userID</th>\n",
       "    </tr>\n",
       "  </thead>\n",
       "  <tbody>\n",
       "    <tr>\n",
       "      <th>count</th>\n",
       "      <td>2824.0</td>\n",
       "      <td>2824.000000</td>\n",
       "      <td>2824.0</td>\n",
       "      <td>2824.000000</td>\n",
       "    </tr>\n",
       "    <tr>\n",
       "      <th>mean</th>\n",
       "      <td>39.0</td>\n",
       "      <td>13.055246</td>\n",
       "      <td>2.0</td>\n",
       "      <td>797.657932</td>\n",
       "    </tr>\n",
       "    <tr>\n",
       "      <th>std</th>\n",
       "      <td>0.0</td>\n",
       "      <td>11.867470</td>\n",
       "      <td>0.0</td>\n",
       "      <td>729.557947</td>\n",
       "    </tr>\n",
       "    <tr>\n",
       "      <th>min</th>\n",
       "      <td>39.0</td>\n",
       "      <td>0.562000</td>\n",
       "      <td>2.0</td>\n",
       "      <td>43.000000</td>\n",
       "    </tr>\n",
       "    <tr>\n",
       "      <th>25%</th>\n",
       "      <td>39.0</td>\n",
       "      <td>4.888750</td>\n",
       "      <td>2.0</td>\n",
       "      <td>515.000000</td>\n",
       "    </tr>\n",
       "    <tr>\n",
       "      <th>50%</th>\n",
       "      <td>39.0</td>\n",
       "      <td>10.180000</td>\n",
       "      <td>2.0</td>\n",
       "      <td>564.000000</td>\n",
       "    </tr>\n",
       "    <tr>\n",
       "      <th>75%</th>\n",
       "      <td>39.0</td>\n",
       "      <td>15.832500</td>\n",
       "      <td>2.0</td>\n",
       "      <td>891.000000</td>\n",
       "    </tr>\n",
       "    <tr>\n",
       "      <th>max</th>\n",
       "      <td>39.0</td>\n",
       "      <td>59.830000</td>\n",
       "      <td>2.0</td>\n",
       "      <td>6952.000000</td>\n",
       "    </tr>\n",
       "  </tbody>\n",
       "</table>\n",
       "</div>"
      ],
      "text/plain": [
       "       clusterID  kWhDelivered  siteID       userID\n",
       "count     2824.0   2824.000000  2824.0  2824.000000\n",
       "mean        39.0     13.055246     2.0   797.657932\n",
       "std          0.0     11.867470     0.0   729.557947\n",
       "min         39.0      0.562000     2.0    43.000000\n",
       "25%         39.0      4.888750     2.0   515.000000\n",
       "50%         39.0     10.180000     2.0   564.000000\n",
       "75%         39.0     15.832500     2.0   891.000000\n",
       "max         39.0     59.830000     2.0  6952.000000"
      ]
     },
     "execution_count": 16,
     "metadata": {},
     "output_type": "execute_result"
    }
   ],
   "source": [
    "#selecting cars with WhPerMile around 242\n",
    "mask = users.WhPerMile < 250\n",
    "tesla_users = users[mask]\n",
    "\n",
    "tesla_IDs = tesla_users.userID.unique()\n",
    "tesla_charging_mask = charging.userID.isin(tesla_IDs)\n",
    "tesla_charging = charging[tesla_charging_mask]\n",
    "tesla_charging.describe()"
   ]
  },
  {
   "cell_type": "code",
   "execution_count": 17,
   "metadata": {},
   "outputs": [
    {
     "data": {
      "text/html": [
       "<div>\n",
       "<style scoped>\n",
       "    .dataframe tbody tr th:only-of-type {\n",
       "        vertical-align: middle;\n",
       "    }\n",
       "\n",
       "    .dataframe tbody tr th {\n",
       "        vertical-align: top;\n",
       "    }\n",
       "\n",
       "    .dataframe thead th {\n",
       "        text-align: right;\n",
       "    }\n",
       "</style>\n",
       "<table border=\"1\" class=\"dataframe\">\n",
       "  <thead>\n",
       "    <tr style=\"text-align: right;\">\n",
       "      <th></th>\n",
       "      <th>WhPerMile</th>\n",
       "      <th>kWhRequested</th>\n",
       "      <th>milesRequested</th>\n",
       "      <th>minutesAvailable</th>\n",
       "      <th>userID</th>\n",
       "    </tr>\n",
       "  </thead>\n",
       "  <tbody>\n",
       "    <tr>\n",
       "      <th>count</th>\n",
       "      <td>1269.000000</td>\n",
       "      <td>1269.000000</td>\n",
       "      <td>1269.000000</td>\n",
       "      <td>1269.000000</td>\n",
       "      <td>1269.000000</td>\n",
       "    </tr>\n",
       "    <tr>\n",
       "      <th>mean</th>\n",
       "      <td>210.620961</td>\n",
       "      <td>24.603601</td>\n",
       "      <td>116.326241</td>\n",
       "      <td>355.733649</td>\n",
       "      <td>892.028369</td>\n",
       "    </tr>\n",
       "    <tr>\n",
       "      <th>std</th>\n",
       "      <td>15.089237</td>\n",
       "      <td>15.662347</td>\n",
       "      <td>71.622625</td>\n",
       "      <td>186.967633</td>\n",
       "      <td>923.380086</td>\n",
       "    </tr>\n",
       "    <tr>\n",
       "      <th>min</th>\n",
       "      <td>200.000000</td>\n",
       "      <td>2.000000</td>\n",
       "      <td>10.000000</td>\n",
       "      <td>29.000000</td>\n",
       "      <td>43.000000</td>\n",
       "    </tr>\n",
       "    <tr>\n",
       "      <th>25%</th>\n",
       "      <td>200.000000</td>\n",
       "      <td>14.000000</td>\n",
       "      <td>70.000000</td>\n",
       "      <td>193.000000</td>\n",
       "      <td>364.000000</td>\n",
       "    </tr>\n",
       "    <tr>\n",
       "      <th>50%</th>\n",
       "      <td>200.000000</td>\n",
       "      <td>20.000000</td>\n",
       "      <td>100.000000</td>\n",
       "      <td>365.000000</td>\n",
       "      <td>564.000000</td>\n",
       "    </tr>\n",
       "    <tr>\n",
       "      <th>75%</th>\n",
       "      <td>227.000000</td>\n",
       "      <td>36.000000</td>\n",
       "      <td>170.000000</td>\n",
       "      <td>509.000000</td>\n",
       "      <td>891.000000</td>\n",
       "    </tr>\n",
       "    <tr>\n",
       "      <th>max</th>\n",
       "      <td>240.000000</td>\n",
       "      <td>69.900000</td>\n",
       "      <td>300.000000</td>\n",
       "      <td>1208.000000</td>\n",
       "      <td>6952.000000</td>\n",
       "    </tr>\n",
       "  </tbody>\n",
       "</table>\n",
       "</div>"
      ],
      "text/plain": [
       "         WhPerMile  kWhRequested  milesRequested  minutesAvailable  \\\n",
       "count  1269.000000   1269.000000     1269.000000       1269.000000   \n",
       "mean    210.620961     24.603601      116.326241        355.733649   \n",
       "std      15.089237     15.662347       71.622625        186.967633   \n",
       "min     200.000000      2.000000       10.000000         29.000000   \n",
       "25%     200.000000     14.000000       70.000000        193.000000   \n",
       "50%     200.000000     20.000000      100.000000        365.000000   \n",
       "75%     227.000000     36.000000      170.000000        509.000000   \n",
       "max     240.000000     69.900000      300.000000       1208.000000   \n",
       "\n",
       "            userID  \n",
       "count  1269.000000  \n",
       "mean    892.028369  \n",
       "std     923.380086  \n",
       "min      43.000000  \n",
       "25%     364.000000  \n",
       "50%     564.000000  \n",
       "75%     891.000000  \n",
       "max    6952.000000  "
      ]
     },
     "execution_count": 17,
     "metadata": {},
     "output_type": "execute_result"
    }
   ],
   "source": [
    "tesla_users.describe()"
   ]
  },
  {
   "cell_type": "code",
   "execution_count": 18,
   "metadata": {},
   "outputs": [
    {
     "data": {
      "text/plain": [
       "<matplotlib.axes._subplots.AxesSubplot at 0x1a1f196c10>"
      ]
     },
     "execution_count": 18,
     "metadata": {},
     "output_type": "execute_result"
    },
    {
     "data": {
      "image/png": "[encoded data removed]",
      "text/plain": [
       "<Figure size 432x288 with 1 Axes>"
      ]
     },
     "metadata": {
      "needs_background": "light"
     },
     "output_type": "display_data"
    }
   ],
   "source": [
    "tesla_charging.kWhDelivered.hist()"
   ]
  },
  {
   "cell_type": "code",
   "execution_count": null,
   "metadata": {},
   "outputs": [],
   "source": []
  }
 ],
 "metadata": {
  "kernelspec": {
   "display_name": "Python 3",
   "language": "python",
   "name": "python3"
  },
  "language_info": {
   "codemirror_mode": {
    "name": "ipython",
    "version": 3
   },
   "file_extension": ".py",
   "mimetype": "text/x-python",
   "name": "python",
   "nbconvert_exporter": "python",
   "pygments_lexer": "ipython3",
   "version": "3.7.6"
  }
 },
 "nbformat": 4,
 "nbformat_minor": 4
}
