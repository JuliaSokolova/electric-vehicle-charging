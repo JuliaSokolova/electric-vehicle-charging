{
 "cells": [
  {
   "cell_type": "code",
   "execution_count": 120,
   "metadata": {},
   "outputs": [],
   "source": [
    "import pandas as pd\n",
    "from matplotlib import pyplot as plt"
   ]
  },
  {
   "cell_type": "markdown",
   "metadata": {},
   "source": [
    "# Organizing data"
   ]
  },
  {
   "cell_type": "code",
   "execution_count": 83,
   "metadata": {},
   "outputs": [
    {
     "data": {
      "text/html": [
       "<div>\n",
       "<style scoped>\n",
       "    .dataframe tbody tr th:only-of-type {\n",
       "        vertical-align: middle;\n",
       "    }\n",
       "\n",
       "    .dataframe tbody tr th {\n",
       "        vertical-align: top;\n",
       "    }\n",
       "\n",
       "    .dataframe thead th {\n",
       "        text-align: right;\n",
       "    }\n",
       "</style>\n",
       "<table border=\"1\" class=\"dataframe\">\n",
       "  <thead>\n",
       "    <tr style=\"text-align: right;\">\n",
       "      <th></th>\n",
       "      <th>WhPerMile</th>\n",
       "      <th>kWhRequested</th>\n",
       "      <th>milesRequested</th>\n",
       "      <th>minutesAvailable</th>\n",
       "      <th>paymentRequired</th>\n",
       "      <th>userID</th>\n",
       "      <th>Modified</th>\n",
       "      <th>Departure</th>\n",
       "    </tr>\n",
       "  </thead>\n",
       "  <tbody>\n",
       "    <tr>\n",
       "      <th>0</th>\n",
       "      <td>350</td>\n",
       "      <td>59.5</td>\n",
       "      <td>170</td>\n",
       "      <td>550</td>\n",
       "      <td>True</td>\n",
       "      <td>22</td>\n",
       "      <td>2018-04-30 15:08:54+00:00</td>\n",
       "      <td>2018-05-01 00:17:49+00:00</td>\n",
       "    </tr>\n",
       "    <tr>\n",
       "      <th>1</th>\n",
       "      <td>400</td>\n",
       "      <td>8.0</td>\n",
       "      <td>20</td>\n",
       "      <td>60</td>\n",
       "      <td>True</td>\n",
       "      <td>61</td>\n",
       "      <td>2018-05-07 14:38:32+00:00</td>\n",
       "      <td>2018-05-07 15:38:18+00:00</td>\n",
       "    </tr>\n",
       "    <tr>\n",
       "      <th>2</th>\n",
       "      <td>400</td>\n",
       "      <td>8.0</td>\n",
       "      <td>20</td>\n",
       "      <td>648</td>\n",
       "      <td>True</td>\n",
       "      <td>61</td>\n",
       "      <td>2018-05-07 15:40:44+00:00</td>\n",
       "      <td>2018-05-08 01:26:18+00:00</td>\n",
       "    </tr>\n",
       "    <tr>\n",
       "      <th>3</th>\n",
       "      <td>400</td>\n",
       "      <td>28.0</td>\n",
       "      <td>70</td>\n",
       "      <td>648</td>\n",
       "      <td>True</td>\n",
       "      <td>61</td>\n",
       "      <td>2018-05-07 15:41:04+00:00</td>\n",
       "      <td>2018-05-08 01:26:18+00:00</td>\n",
       "    </tr>\n",
       "    <tr>\n",
       "      <th>4</th>\n",
       "      <td>350</td>\n",
       "      <td>17.5</td>\n",
       "      <td>50</td>\n",
       "      <td>546</td>\n",
       "      <td>True</td>\n",
       "      <td>22</td>\n",
       "      <td>2018-05-11 15:18:23+00:00</td>\n",
       "      <td>2018-05-12 00:23:01+00:00</td>\n",
       "    </tr>\n",
       "  </tbody>\n",
       "</table>\n",
       "</div>"
      ],
      "text/plain": [
       "   WhPerMile  kWhRequested  milesRequested  minutesAvailable  paymentRequired  \\\n",
       "0        350          59.5             170               550             True   \n",
       "1        400           8.0              20                60             True   \n",
       "2        400           8.0              20               648             True   \n",
       "3        400          28.0              70               648             True   \n",
       "4        350          17.5              50               546             True   \n",
       "\n",
       "   userID                  Modified                 Departure  \n",
       "0      22 2018-04-30 15:08:54+00:00 2018-05-01 00:17:49+00:00  \n",
       "1      61 2018-05-07 14:38:32+00:00 2018-05-07 15:38:18+00:00  \n",
       "2      61 2018-05-07 15:40:44+00:00 2018-05-08 01:26:18+00:00  \n",
       "3      61 2018-05-07 15:41:04+00:00 2018-05-08 01:26:18+00:00  \n",
       "4      22 2018-05-11 15:18:23+00:00 2018-05-12 00:23:01+00:00  "
      ]
     },
     "execution_count": 83,
     "metadata": {},
     "output_type": "execute_result"
    }
   ],
   "source": [
    "#changong data types to datetime format for users table\n",
    "\n",
    "users_to_clean = pd.read_csv('./data/users.csv')\n",
    "users_to_clean['Modified'] = pd.to_datetime(users_to_clean.modifiedAt, infer_datetime_format=True)  \n",
    "users_to_clean['Departure'] = pd.to_datetime(users_to_clean.requestedDeparture, infer_datetime_format=True)\n",
    "users = users_to_clean.drop(columns = ['requestedDeparture', 'modifiedAt', 'Unnamed: 0'])\n",
    "users.head()"
   ]
  },
  {
   "cell_type": "code",
   "execution_count": 84,
   "metadata": {},
   "outputs": [
    {
     "data": {
      "text/html": [
       "<div>\n",
       "<style scoped>\n",
       "    .dataframe tbody tr th:only-of-type {\n",
       "        vertical-align: middle;\n",
       "    }\n",
       "\n",
       "    .dataframe tbody tr th {\n",
       "        vertical-align: top;\n",
       "    }\n",
       "\n",
       "    .dataframe thead th {\n",
       "        text-align: right;\n",
       "    }\n",
       "</style>\n",
       "<table border=\"1\" class=\"dataframe\">\n",
       "  <thead>\n",
       "    <tr style=\"text-align: right;\">\n",
       "      <th></th>\n",
       "      <th>_id</th>\n",
       "      <th>clusterID</th>\n",
       "      <th>kWhDelivered</th>\n",
       "      <th>sessionID</th>\n",
       "      <th>siteID</th>\n",
       "      <th>spaceID</th>\n",
       "      <th>stationID</th>\n",
       "      <th>timezone</th>\n",
       "      <th>userID</th>\n",
       "      <th>ConnectionTime</th>\n",
       "      <th>DisconnectTime</th>\n",
       "      <th>DoneCharging</th>\n",
       "    </tr>\n",
       "  </thead>\n",
       "  <tbody>\n",
       "    <tr>\n",
       "      <th>0</th>\n",
       "      <td>5bc90cb9f9af8b0d7fe77cd2</td>\n",
       "      <td>39</td>\n",
       "      <td>7.932</td>\n",
       "      <td>2_39_78_362_2018-04-25 11:08:04.400812</td>\n",
       "      <td>2</td>\n",
       "      <td>CA-496</td>\n",
       "      <td>2-39-78-362</td>\n",
       "      <td>America/Los_Angeles</td>\n",
       "      <td>NaN</td>\n",
       "      <td>2018-04-25 11:08:04+00:00</td>\n",
       "      <td>2018-04-25 13:20:10+00:00</td>\n",
       "      <td>2018-04-25 13:21:10+00:00</td>\n",
       "    </tr>\n",
       "    <tr>\n",
       "      <th>1</th>\n",
       "      <td>5bc90cb9f9af8b0d7fe77cd3</td>\n",
       "      <td>39</td>\n",
       "      <td>10.013</td>\n",
       "      <td>2_39_95_27_2018-04-25 13:45:09.617470</td>\n",
       "      <td>2</td>\n",
       "      <td>CA-319</td>\n",
       "      <td>2-39-95-27</td>\n",
       "      <td>America/Los_Angeles</td>\n",
       "      <td>NaN</td>\n",
       "      <td>2018-04-25 13:45:10+00:00</td>\n",
       "      <td>2018-04-26 00:56:16+00:00</td>\n",
       "      <td>2018-04-25 16:44:15+00:00</td>\n",
       "    </tr>\n",
       "    <tr>\n",
       "      <th>2</th>\n",
       "      <td>5bc90cb9f9af8b0d7fe77cd4</td>\n",
       "      <td>39</td>\n",
       "      <td>5.257</td>\n",
       "      <td>2_39_79_380_2018-04-25 13:45:49.962001</td>\n",
       "      <td>2</td>\n",
       "      <td>CA-489</td>\n",
       "      <td>2-39-79-380</td>\n",
       "      <td>America/Los_Angeles</td>\n",
       "      <td>NaN</td>\n",
       "      <td>2018-04-25 13:45:50+00:00</td>\n",
       "      <td>2018-04-25 23:04:45+00:00</td>\n",
       "      <td>2018-04-25 14:51:44+00:00</td>\n",
       "    </tr>\n",
       "    <tr>\n",
       "      <th>3</th>\n",
       "      <td>5bc90cb9f9af8b0d7fe77cd5</td>\n",
       "      <td>39</td>\n",
       "      <td>5.177</td>\n",
       "      <td>2_39_79_379_2018-04-25 14:37:06.460772</td>\n",
       "      <td>2</td>\n",
       "      <td>CA-327</td>\n",
       "      <td>2-39-79-379</td>\n",
       "      <td>America/Los_Angeles</td>\n",
       "      <td>NaN</td>\n",
       "      <td>2018-04-25 14:37:06+00:00</td>\n",
       "      <td>2018-04-25 23:55:34+00:00</td>\n",
       "      <td>2018-04-25 16:05:22+00:00</td>\n",
       "    </tr>\n",
       "    <tr>\n",
       "      <th>4</th>\n",
       "      <td>5bc90cb9f9af8b0d7fe77cd6</td>\n",
       "      <td>39</td>\n",
       "      <td>10.119</td>\n",
       "      <td>2_39_79_381_2018-04-25 14:40:33.638896</td>\n",
       "      <td>2</td>\n",
       "      <td>CA-490</td>\n",
       "      <td>2-39-79-381</td>\n",
       "      <td>America/Los_Angeles</td>\n",
       "      <td>NaN</td>\n",
       "      <td>2018-04-25 14:40:34+00:00</td>\n",
       "      <td>2018-04-25 23:03:12+00:00</td>\n",
       "      <td>2018-04-25 17:40:30+00:00</td>\n",
       "    </tr>\n",
       "  </tbody>\n",
       "</table>\n",
       "</div>"
      ],
      "text/plain": [
       "                        _id  clusterID  kWhDelivered  \\\n",
       "0  5bc90cb9f9af8b0d7fe77cd2         39         7.932   \n",
       "1  5bc90cb9f9af8b0d7fe77cd3         39        10.013   \n",
       "2  5bc90cb9f9af8b0d7fe77cd4         39         5.257   \n",
       "3  5bc90cb9f9af8b0d7fe77cd5         39         5.177   \n",
       "4  5bc90cb9f9af8b0d7fe77cd6         39        10.119   \n",
       "\n",
       "                                sessionID  siteID spaceID    stationID  \\\n",
       "0  2_39_78_362_2018-04-25 11:08:04.400812       2  CA-496  2-39-78-362   \n",
       "1   2_39_95_27_2018-04-25 13:45:09.617470       2  CA-319   2-39-95-27   \n",
       "2  2_39_79_380_2018-04-25 13:45:49.962001       2  CA-489  2-39-79-380   \n",
       "3  2_39_79_379_2018-04-25 14:37:06.460772       2  CA-327  2-39-79-379   \n",
       "4  2_39_79_381_2018-04-25 14:40:33.638896       2  CA-490  2-39-79-381   \n",
       "\n",
       "              timezone  userID            ConnectionTime  \\\n",
       "0  America/Los_Angeles     NaN 2018-04-25 11:08:04+00:00   \n",
       "1  America/Los_Angeles     NaN 2018-04-25 13:45:10+00:00   \n",
       "2  America/Los_Angeles     NaN 2018-04-25 13:45:50+00:00   \n",
       "3  America/Los_Angeles     NaN 2018-04-25 14:37:06+00:00   \n",
       "4  America/Los_Angeles     NaN 2018-04-25 14:40:34+00:00   \n",
       "\n",
       "             DisconnectTime              DoneCharging  \n",
       "0 2018-04-25 13:20:10+00:00 2018-04-25 13:21:10+00:00  \n",
       "1 2018-04-26 00:56:16+00:00 2018-04-25 16:44:15+00:00  \n",
       "2 2018-04-25 23:04:45+00:00 2018-04-25 14:51:44+00:00  \n",
       "3 2018-04-25 23:55:34+00:00 2018-04-25 16:05:22+00:00  \n",
       "4 2018-04-25 23:03:12+00:00 2018-04-25 17:40:30+00:00  "
      ]
     },
     "execution_count": 84,
     "metadata": {},
     "output_type": "execute_result"
    }
   ],
   "source": [
    "#changing data types to datetime format for users table\n",
    "\n",
    "charging_to_clean = pd.read_csv('./data/charging.csv')\n",
    "charging_to_clean['ConnectionTime'] = pd.to_datetime(charging_to_clean.connectionTime, infer_datetime_format=True) \n",
    "charging_to_clean['DisconnectTime'] = pd.to_datetime(charging_to_clean.disconnectTime, infer_datetime_format=True) \n",
    "charging_to_clean['DoneCharging'] = pd.to_datetime(charging_to_clean.doneChargingTime, infer_datetime_format=True) \n",
    "\n",
    "charging = charging_to_clean.drop(columns = ['connectionTime', 'disconnectTime', 'doneChargingTime', 'Unnamed: 0'])\n",
    "charging.head()"
   ]
  },
  {
   "cell_type": "markdown",
   "metadata": {},
   "source": [
    "# Exploring data"
   ]
  },
  {
   "cell_type": "markdown",
   "metadata": {},
   "source": [
    "Question: how many unique users I have in my data set?\n",
    "\n",
    "Answer: 407 \n",
    "\n",
    "Question: how many charging points do I have?\n",
    "\n",
    "Answer: 54 "
   ]
  },
  {
   "cell_type": "code",
   "execution_count": 93,
   "metadata": {},
   "outputs": [
    {
     "data": {
      "text/plain": [
       "WhPerMile              82\n",
       "kWhRequested          566\n",
       "milesRequested         55\n",
       "minutesAvailable      777\n",
       "paymentRequired         1\n",
       "userID                407\n",
       "Modified            17075\n",
       "Departure           15267\n",
       "dtype: int64"
      ]
     },
     "execution_count": 93,
     "metadata": {},
     "output_type": "execute_result"
    }
   ],
   "source": [
    "users.nunique()"
   ]
  },
  {
   "cell_type": "code",
   "execution_count": 94,
   "metadata": {},
   "outputs": [
    {
     "data": {
      "text/plain": [
       "_id               28042\n",
       "clusterID             1\n",
       "kWhDelivered      14409\n",
       "sessionID         28042\n",
       "siteID                1\n",
       "spaceID              54\n",
       "stationID            54\n",
       "timezone              1\n",
       "userID              407\n",
       "ConnectionTime    28000\n",
       "DisconnectTime    28005\n",
       "DoneCharging      27171\n",
       "dtype: int64"
      ]
     },
     "execution_count": 94,
     "metadata": {},
     "output_type": "execute_result"
    }
   ],
   "source": [
    "charging.nunique()"
   ]
  },
  {
   "cell_type": "markdown",
   "metadata": {},
   "source": [
    "Question: what time period I have data for?\n",
    "\n",
    "Answer: April 2018 - June 2020"
   ]
  },
  {
   "cell_type": "code",
   "execution_count": 99,
   "metadata": {},
   "outputs": [
    {
     "data": {
      "text/plain": [
       "(Timestamp('2020-06-29 23:09:54+0000', tz='UTC'),\n",
       " Timestamp('2018-04-25 11:08:04+0000', tz='UTC'))"
      ]
     },
     "execution_count": 99,
     "metadata": {},
     "output_type": "execute_result"
    }
   ],
   "source": [
    "charging.ConnectionTime.max(),  charging.ConnectionTime.min()"
   ]
  },
  {
   "cell_type": "code",
   "execution_count": 100,
   "metadata": {},
   "outputs": [
    {
     "data": {
      "text/plain": [
       "(Timestamp('2020-06-29 23:11:53+0000', tz='UTC'),\n",
       " Timestamp('2018-04-30 15:08:54+0000', tz='UTC'))"
      ]
     },
     "execution_count": 100,
     "metadata": {},
     "output_type": "execute_result"
    }
   ],
   "source": [
    "users.Modified.max(), users.Modified.min()"
   ]
  },
  {
   "cell_type": "code",
   "execution_count": 106,
   "metadata": {},
   "outputs": [
    {
     "data": {
      "text/plain": [
       "<matplotlib.axes._subplots.AxesSubplot at 0x1201f5c10>"
      ]
     },
     "execution_count": 106,
     "metadata": {},
     "output_type": "execute_result"
    },
    {
     "data": {
      "image/png": "[encoded data removed]",
      "text/plain": [
       "<Figure size 1152x576 with 1 Axes>"
      ]
     },
     "metadata": {
      "needs_background": "light"
     },
     "output_type": "display_data"
    }
   ],
   "source": [
    "charging[\"ConnectionTime\"].groupby([charging[\"ConnectionTime\"].dt.year, charging[\"ConnectionTime\"].dt.month]).count().plot(kind=\"bar\", figsize = (16, 8))"
   ]
  },
  {
   "cell_type": "code",
   "execution_count": 107,
   "metadata": {},
   "outputs": [
    {
     "data": {
      "text/plain": [
       "<matplotlib.axes._subplots.AxesSubplot at 0x1203cbad0>"
      ]
     },
     "execution_count": 107,
     "metadata": {},
     "output_type": "execute_result"
    },
    {
     "data": {
      "image/png": "[encoded data removed]",
      "text/plain": [
       "<Figure size 1152x576 with 1 Axes>"
      ]
     },
     "metadata": {
      "needs_background": "light"
     },
     "output_type": "display_data"
    }
   ],
   "source": [
    "charging[\"ConnectionTime\"].groupby([charging[\"ConnectionTime\"].dt.day]).count().plot(kind=\"bar\", figsize = (16, 8))"
   ]
  },
  {
   "cell_type": "code",
   "execution_count": 108,
   "metadata": {},
   "outputs": [
    {
     "data": {
      "text/plain": [
       "<matplotlib.axes._subplots.AxesSubplot at 0x121414110>"
      ]
     },
     "execution_count": 108,
     "metadata": {},
     "output_type": "execute_result"
    },
    {
     "data": {
      "image/png": "[encoded data removed]",
      "text/plain": [
       "<Figure size 1152x576 with 1 Axes>"
      ]
     },
     "metadata": {
      "needs_background": "light"
     },
     "output_type": "display_data"
    }
   ],
   "source": [
    "charging[\"ConnectionTime\"].groupby([charging[\"ConnectionTime\"].dt.weekday]).count().plot(kind=\"bar\", figsize = (16, 8))"
   ]
  },
  {
   "cell_type": "code",
   "execution_count": 109,
   "metadata": {},
   "outputs": [
    {
     "data": {
      "text/plain": [
       "<matplotlib.axes._subplots.AxesSubplot at 0x121629cd0>"
      ]
     },
     "execution_count": 109,
     "metadata": {},
     "output_type": "execute_result"
    },
    {
     "data": {
      "image/png": "[encoded data removed]",
      "text/plain": [
       "<Figure size 1152x576 with 1 Axes>"
      ]
     },
     "metadata": {
      "needs_background": "light"
     },
     "output_type": "display_data"
    }
   ],
   "source": [
    "charging[\"ConnectionTime\"].groupby([charging[\"ConnectionTime\"].dt.hour]).count().plot(kind=\"bar\", figsize = (16, 8))"
   ]
  },
  {
   "cell_type": "code",
   "execution_count": 110,
   "metadata": {},
   "outputs": [
    {
     "data": {
      "text/html": [
       "<div>\n",
       "<style scoped>\n",
       "    .dataframe tbody tr th:only-of-type {\n",
       "        vertical-align: middle;\n",
       "    }\n",
       "\n",
       "    .dataframe tbody tr th {\n",
       "        vertical-align: top;\n",
       "    }\n",
       "\n",
       "    .dataframe thead th {\n",
       "        text-align: right;\n",
       "    }\n",
       "</style>\n",
       "<table border=\"1\" class=\"dataframe\">\n",
       "  <thead>\n",
       "    <tr style=\"text-align: right;\">\n",
       "      <th></th>\n",
       "      <th>WhPerMile</th>\n",
       "      <th>kWhRequested</th>\n",
       "      <th>milesRequested</th>\n",
       "      <th>minutesAvailable</th>\n",
       "      <th>userID</th>\n",
       "    </tr>\n",
       "  </thead>\n",
       "  <tbody>\n",
       "    <tr>\n",
       "      <th>count</th>\n",
       "      <td>17134.000000</td>\n",
       "      <td>17134.000000</td>\n",
       "      <td>17134.000000</td>\n",
       "      <td>17134.000000</td>\n",
       "      <td>17134.000000</td>\n",
       "    </tr>\n",
       "    <tr>\n",
       "      <th>mean</th>\n",
       "      <td>370.274075</td>\n",
       "      <td>21.847404</td>\n",
       "      <td>63.680635</td>\n",
       "      <td>288.012665</td>\n",
       "      <td>1103.289716</td>\n",
       "    </tr>\n",
       "    <tr>\n",
       "      <th>std</th>\n",
       "      <td>101.562645</td>\n",
       "      <td>19.655481</td>\n",
       "      <td>57.357672</td>\n",
       "      <td>184.853041</td>\n",
       "      <td>937.954080</td>\n",
       "    </tr>\n",
       "    <tr>\n",
       "      <th>min</th>\n",
       "      <td>200.000000</td>\n",
       "      <td>2.000000</td>\n",
       "      <td>10.000000</td>\n",
       "      <td>1.000000</td>\n",
       "      <td>1.000000</td>\n",
       "    </tr>\n",
       "    <tr>\n",
       "      <th>25%</th>\n",
       "      <td>295.000000</td>\n",
       "      <td>8.000000</td>\n",
       "      <td>20.000000</td>\n",
       "      <td>130.000000</td>\n",
       "      <td>562.000000</td>\n",
       "    </tr>\n",
       "    <tr>\n",
       "      <th>50%</th>\n",
       "      <td>400.000000</td>\n",
       "      <td>16.000000</td>\n",
       "      <td>40.000000</td>\n",
       "      <td>258.000000</td>\n",
       "      <td>838.000000</td>\n",
       "    </tr>\n",
       "    <tr>\n",
       "      <th>75%</th>\n",
       "      <td>400.000000</td>\n",
       "      <td>28.000000</td>\n",
       "      <td>80.000000</td>\n",
       "      <td>426.750000</td>\n",
       "      <td>1238.000000</td>\n",
       "    </tr>\n",
       "    <tr>\n",
       "      <th>max</th>\n",
       "      <td>600.000000</td>\n",
       "      <td>180.000000</td>\n",
       "      <td>300.000000</td>\n",
       "      <td>1913.000000</td>\n",
       "      <td>6952.000000</td>\n",
       "    </tr>\n",
       "  </tbody>\n",
       "</table>\n",
       "</div>"
      ],
      "text/plain": [
       "          WhPerMile  kWhRequested  milesRequested  minutesAvailable  \\\n",
       "count  17134.000000  17134.000000    17134.000000      17134.000000   \n",
       "mean     370.274075     21.847404       63.680635        288.012665   \n",
       "std      101.562645     19.655481       57.357672        184.853041   \n",
       "min      200.000000      2.000000       10.000000          1.000000   \n",
       "25%      295.000000      8.000000       20.000000        130.000000   \n",
       "50%      400.000000     16.000000       40.000000        258.000000   \n",
       "75%      400.000000     28.000000       80.000000        426.750000   \n",
       "max      600.000000    180.000000      300.000000       1913.000000   \n",
       "\n",
       "             userID  \n",
       "count  17134.000000  \n",
       "mean    1103.289716  \n",
       "std      937.954080  \n",
       "min        1.000000  \n",
       "25%      562.000000  \n",
       "50%      838.000000  \n",
       "75%     1238.000000  \n",
       "max     6952.000000  "
      ]
     },
     "execution_count": 110,
     "metadata": {},
     "output_type": "execute_result"
    }
   ],
   "source": [
    "users.describe()"
   ]
  },
  {
   "cell_type": "code",
   "execution_count": 111,
   "metadata": {},
   "outputs": [
    {
     "data": {
      "text/html": [
       "<div>\n",
       "<style scoped>\n",
       "    .dataframe tbody tr th:only-of-type {\n",
       "        vertical-align: middle;\n",
       "    }\n",
       "\n",
       "    .dataframe tbody tr th {\n",
       "        vertical-align: top;\n",
       "    }\n",
       "\n",
       "    .dataframe thead th {\n",
       "        text-align: right;\n",
       "    }\n",
       "</style>\n",
       "<table border=\"1\" class=\"dataframe\">\n",
       "  <thead>\n",
       "    <tr style=\"text-align: right;\">\n",
       "      <th></th>\n",
       "      <th>clusterID</th>\n",
       "      <th>kWhDelivered</th>\n",
       "      <th>siteID</th>\n",
       "      <th>userID</th>\n",
       "    </tr>\n",
       "  </thead>\n",
       "  <tbody>\n",
       "    <tr>\n",
       "      <th>count</th>\n",
       "      <td>28042.0</td>\n",
       "      <td>28042.000000</td>\n",
       "      <td>28042.0</td>\n",
       "      <td>13275.000000</td>\n",
       "    </tr>\n",
       "    <tr>\n",
       "      <th>mean</th>\n",
       "      <td>39.0</td>\n",
       "      <td>8.898859</td>\n",
       "      <td>2.0</td>\n",
       "      <td>1093.202109</td>\n",
       "    </tr>\n",
       "    <tr>\n",
       "      <th>std</th>\n",
       "      <td>0.0</td>\n",
       "      <td>8.088413</td>\n",
       "      <td>0.0</td>\n",
       "      <td>871.109487</td>\n",
       "    </tr>\n",
       "    <tr>\n",
       "      <th>min</th>\n",
       "      <td>39.0</td>\n",
       "      <td>0.501000</td>\n",
       "      <td>2.0</td>\n",
       "      <td>1.000000</td>\n",
       "    </tr>\n",
       "    <tr>\n",
       "      <th>25%</th>\n",
       "      <td>39.0</td>\n",
       "      <td>3.422000</td>\n",
       "      <td>2.0</td>\n",
       "      <td>567.000000</td>\n",
       "    </tr>\n",
       "    <tr>\n",
       "      <th>50%</th>\n",
       "      <td>39.0</td>\n",
       "      <td>6.695000</td>\n",
       "      <td>2.0</td>\n",
       "      <td>869.000000</td>\n",
       "    </tr>\n",
       "    <tr>\n",
       "      <th>75%</th>\n",
       "      <td>39.0</td>\n",
       "      <td>12.675000</td>\n",
       "      <td>2.0</td>\n",
       "      <td>1222.000000</td>\n",
       "    </tr>\n",
       "    <tr>\n",
       "      <th>max</th>\n",
       "      <td>39.0</td>\n",
       "      <td>75.528000</td>\n",
       "      <td>2.0</td>\n",
       "      <td>6952.000000</td>\n",
       "    </tr>\n",
       "  </tbody>\n",
       "</table>\n",
       "</div>"
      ],
      "text/plain": [
       "       clusterID  kWhDelivered   siteID        userID\n",
       "count    28042.0  28042.000000  28042.0  13275.000000\n",
       "mean        39.0      8.898859      2.0   1093.202109\n",
       "std          0.0      8.088413      0.0    871.109487\n",
       "min         39.0      0.501000      2.0      1.000000\n",
       "25%         39.0      3.422000      2.0    567.000000\n",
       "50%         39.0      6.695000      2.0    869.000000\n",
       "75%         39.0     12.675000      2.0   1222.000000\n",
       "max         39.0     75.528000      2.0   6952.000000"
      ]
     },
     "execution_count": 111,
     "metadata": {},
     "output_type": "execute_result"
    }
   ],
   "source": [
    "charging.describe()"
   ]
  },
  {
   "cell_type": "markdown",
   "metadata": {},
   "source": [
    "# Correlation between the time of day & amount charged"
   ]
  },
  {
   "cell_type": "code",
   "execution_count": 135,
   "metadata": {},
   "outputs": [
    {
     "name": "stderr",
     "output_type": "stream",
     "text": [
      "/opt/anaconda3/lib/python3.7/site-packages/ipykernel_launcher.py:4: SettingWithCopyWarning: \n",
      "A value is trying to be set on a copy of a slice from a DataFrame.\n",
      "Try using .loc[row_indexer,col_indexer] = value instead\n",
      "\n",
      "See the caveats in the documentation: https://pandas.pydata.org/pandas-docs/stable/user_guide/indexing.html#returning-a-view-versus-a-copy\n",
      "  after removing the cwd from sys.path.\n"
     ]
    },
    {
     "data": {
      "text/html": [
       "<div>\n",
       "<style scoped>\n",
       "    .dataframe tbody tr th:only-of-type {\n",
       "        vertical-align: middle;\n",
       "    }\n",
       "\n",
       "    .dataframe tbody tr th {\n",
       "        vertical-align: top;\n",
       "    }\n",
       "\n",
       "    .dataframe thead th {\n",
       "        text-align: right;\n",
       "    }\n",
       "</style>\n",
       "<table border=\"1\" class=\"dataframe\">\n",
       "  <thead>\n",
       "    <tr style=\"text-align: right;\">\n",
       "      <th></th>\n",
       "      <th>kWhDelivered</th>\n",
       "      <th>ConnectionTime</th>\n",
       "      <th>Hour</th>\n",
       "    </tr>\n",
       "  </thead>\n",
       "  <tbody>\n",
       "    <tr>\n",
       "      <th>0</th>\n",
       "      <td>7.932</td>\n",
       "      <td>2018-04-25 11:08:04+00:00</td>\n",
       "      <td>11</td>\n",
       "    </tr>\n",
       "    <tr>\n",
       "      <th>1</th>\n",
       "      <td>10.013</td>\n",
       "      <td>2018-04-25 13:45:10+00:00</td>\n",
       "      <td>13</td>\n",
       "    </tr>\n",
       "    <tr>\n",
       "      <th>2</th>\n",
       "      <td>5.257</td>\n",
       "      <td>2018-04-25 13:45:50+00:00</td>\n",
       "      <td>13</td>\n",
       "    </tr>\n",
       "    <tr>\n",
       "      <th>3</th>\n",
       "      <td>5.177</td>\n",
       "      <td>2018-04-25 14:37:06+00:00</td>\n",
       "      <td>14</td>\n",
       "    </tr>\n",
       "    <tr>\n",
       "      <th>4</th>\n",
       "      <td>10.119</td>\n",
       "      <td>2018-04-25 14:40:34+00:00</td>\n",
       "      <td>14</td>\n",
       "    </tr>\n",
       "    <tr>\n",
       "      <th>...</th>\n",
       "      <td>...</td>\n",
       "      <td>...</td>\n",
       "      <td>...</td>\n",
       "    </tr>\n",
       "    <tr>\n",
       "      <th>28037</th>\n",
       "      <td>1.182</td>\n",
       "      <td>2020-06-26 16:18:15+00:00</td>\n",
       "      <td>16</td>\n",
       "    </tr>\n",
       "    <tr>\n",
       "      <th>28038</th>\n",
       "      <td>13.310</td>\n",
       "      <td>2020-06-26 17:29:38+00:00</td>\n",
       "      <td>17</td>\n",
       "    </tr>\n",
       "    <tr>\n",
       "      <th>28039</th>\n",
       "      <td>1.390</td>\n",
       "      <td>2020-06-27 23:52:13+00:00</td>\n",
       "      <td>23</td>\n",
       "    </tr>\n",
       "    <tr>\n",
       "      <th>28040</th>\n",
       "      <td>47.437</td>\n",
       "      <td>2020-06-28 21:18:05+00:00</td>\n",
       "      <td>21</td>\n",
       "    </tr>\n",
       "    <tr>\n",
       "      <th>28041</th>\n",
       "      <td>3.153</td>\n",
       "      <td>2020-06-29 23:09:54+00:00</td>\n",
       "      <td>23</td>\n",
       "    </tr>\n",
       "  </tbody>\n",
       "</table>\n",
       "<p>28042 rows × 3 columns</p>\n",
       "</div>"
      ],
      "text/plain": [
       "       kWhDelivered            ConnectionTime  Hour\n",
       "0             7.932 2018-04-25 11:08:04+00:00    11\n",
       "1            10.013 2018-04-25 13:45:10+00:00    13\n",
       "2             5.257 2018-04-25 13:45:50+00:00    13\n",
       "3             5.177 2018-04-25 14:37:06+00:00    14\n",
       "4            10.119 2018-04-25 14:40:34+00:00    14\n",
       "...             ...                       ...   ...\n",
       "28037         1.182 2020-06-26 16:18:15+00:00    16\n",
       "28038        13.310 2020-06-26 17:29:38+00:00    17\n",
       "28039         1.390 2020-06-27 23:52:13+00:00    23\n",
       "28040        47.437 2020-06-28 21:18:05+00:00    21\n",
       "28041         3.153 2020-06-29 23:09:54+00:00    23\n",
       "\n",
       "[28042 rows x 3 columns]"
      ]
     },
     "execution_count": 135,
     "metadata": {},
     "output_type": "execute_result"
    }
   ],
   "source": [
    "data = charging[['kWhDelivered','ConnectionTime']]\n",
    "data['Hour'] = data['ConnectionTime'].dt.hour\n",
    "data"
   ]
  },
  {
   "cell_type": "code",
   "execution_count": 171,
   "metadata": {},
   "outputs": [
    {
     "data": {
      "text/plain": [
       "Hour\n",
       "0      8.782697\n",
       "1      8.995786\n",
       "2      9.632508\n",
       "3     10.059836\n",
       "4     10.645924\n",
       "5     11.145629\n",
       "6     13.914140\n",
       "7     10.710025\n",
       "8     13.684781\n",
       "9     16.134614\n",
       "10     7.527913\n",
       "11    11.150269\n",
       "12     8.871691\n",
       "13    10.741733\n",
       "14     9.931794\n",
       "15     9.185118\n",
       "16     9.028086\n",
       "17     9.048865\n",
       "18     8.511962\n",
       "19     7.852252\n",
       "20     6.850442\n",
       "21     7.170103\n",
       "22     7.339031\n",
       "23     7.718235\n",
       "Name: kWhDelivered, dtype: float64"
      ]
     },
     "execution_count": 171,
     "metadata": {},
     "output_type": "execute_result"
    }
   ],
   "source": [
    "# what is of average amount of energy delivered, if session starts at a certain hour\n",
    "\n",
    "sessions = data.groupby('Hour').count()['kWhDelivered']\n",
    "hours = range(0, 24)\n",
    "\n",
    "kWh = data.groupby('Hour').sum()['kWhDelivered']\n",
    "kWh, sessions\n",
    "avg_session = kWh / sessions\n",
    "avg_session"
   ]
  },
  {
   "cell_type": "code",
   "execution_count": 150,
   "metadata": {},
   "outputs": [
    {
     "data": {
      "text/plain": [
       "<matplotlib.collections.PathCollection at 0x1223add50>"
      ]
     },
     "execution_count": 150,
     "metadata": {},
     "output_type": "execute_result"
    },
    {
     "data": {
      "image/png": "[encoded data removed]",
      "text/plain": [
       "<Figure size 432x288 with 1 Axes>"
      ]
     },
     "metadata": {
      "needs_background": "light"
     },
     "output_type": "display_data"
    }
   ],
   "source": [
    "plt.scatter(kWh, sessions)"
   ]
  },
  {
   "cell_type": "code",
   "execution_count": 179,
   "metadata": {},
   "outputs": [
    {
     "data": {
      "text/plain": [
       "<matplotlib.axes._subplots.AxesSubplot at 0x124381f10>"
      ]
     },
     "execution_count": 179,
     "metadata": {},
     "output_type": "execute_result"
    },
    {
     "data": {
      "image/png": "[encoded data removed]",
      "text/plain": [
       "<Figure size 1152x576 with 1 Axes>"
      ]
     },
     "metadata": {
      "needs_background": "light"
     },
     "output_type": "display_data"
    }
   ],
   "source": [
    "avg_session.hist(bins = 24, figsize = (16, 8))"
   ]
  },
  {
   "cell_type": "code",
   "execution_count": 161,
   "metadata": {},
   "outputs": [
    {
     "data": {
      "text/plain": [
       "<matplotlib.axes._subplots.AxesSubplot at 0x1238cc710>"
      ]
     },
     "execution_count": 161,
     "metadata": {},
     "output_type": "execute_result"
    },
    {
     "data": {
      "image/png": "[encoded data removed]",
      "text/plain": [
       "<Figure size 1152x576 with 1 Axes>"
      ]
     },
     "metadata": {
      "needs_background": "light"
     },
     "output_type": "display_data"
    }
   ],
   "source": [
    "avg_session.plot(kind=\"bar\", figsize = (16, 8))"
   ]
  },
  {
   "cell_type": "markdown",
   "metadata": {},
   "source": [
    "# Explore random variable kWhRequested"
   ]
  },
  {
   "cell_type": "code",
   "execution_count": 178,
   "metadata": {},
   "outputs": [
    {
     "data": {
      "text/plain": [
       "<matplotlib.axes._subplots.AxesSubplot at 0x123b5e610>"
      ]
     },
     "execution_count": 178,
     "metadata": {},
     "output_type": "execute_result"
    },
    {
     "data": {
      "image/png": "[encoded data removed]",
      "text/plain": [
       "<Figure size 1152x576 with 1 Axes>"
      ]
     },
     "metadata": {
      "needs_background": "light"
     },
     "output_type": "display_data"
    }
   ],
   "source": [
    "kWh_request = users.kWhRequested\n",
    "kWh_request.hist(bins = 100, figsize = (16, 8))"
   ]
  },
  {
   "cell_type": "code",
   "execution_count": 224,
   "metadata": {},
   "outputs": [
    {
     "data": {
      "text/plain": [
       "[<matplotlib.lines.Line2D at 0x128df8d50>]"
      ]
     },
     "execution_count": 224,
     "metadata": {},
     "output_type": "execute_result"
    },
    {
     "data": {
      "image/png": "[encoded data removed]",
      "text/plain": [
       "<Figure size 1152x288 with 1 Axes>"
      ]
     },
     "metadata": {
      "needs_background": "light"
     },
     "output_type": "display_data"
    }
   ],
   "source": [
    "fig, ax = plt.subplots(figsize =(16, 4))\n",
    "ax.plot(kWh_request, len(kWh_request)*[1], 'x' )\n",
    "\n",
    "#one_dim_scatterplot(kWh_request, ax) # plots true data"
   ]
  },
  {
   "cell_type": "code",
   "execution_count": 225,
   "metadata": {},
   "outputs": [
    {
     "data": {
      "text/plain": [
       "count    17134.000000\n",
       "mean        21.847404\n",
       "std         19.655481\n",
       "min          2.000000\n",
       "25%          8.000000\n",
       "50%         16.000000\n",
       "75%         28.000000\n",
       "max        180.000000\n",
       "Name: kWhRequested, dtype: float64"
      ]
     },
     "execution_count": 225,
     "metadata": {},
     "output_type": "execute_result"
    }
   ],
   "source": [
    "kWh_request.describe()"
   ]
  },
  {
   "cell_type": "code",
   "execution_count": null,
   "metadata": {},
   "outputs": [],
   "source": []
  }
 ],
 "metadata": {
  "kernelspec": {
   "display_name": "Python 3",
   "language": "python",
   "name": "python3"
  },
  "language_info": {
   "codemirror_mode": {
    "name": "ipython",
    "version": 3
   },
   "file_extension": ".py",
   "mimetype": "text/x-python",
   "name": "python",
   "nbconvert_exporter": "python",
   "pygments_lexer": "ipython3",
   "version": "3.7.6"
  }
 },
 "nbformat": 4,
 "nbformat_minor": 4
}
