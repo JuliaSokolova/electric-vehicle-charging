{
 "cells": [
  {
   "cell_type": "code",
   "execution_count": 287,
   "metadata": {},
   "outputs": [],
   "source": [
    "import pandas as pd\n",
    "from matplotlib import pyplot as plt\n",
    "from scipy import stats\n",
    "import numpy as np\n",
    "import seaborn as sns"
   ]
  },
  {
   "cell_type": "markdown",
   "metadata": {},
   "source": [
    "# Organizing data"
   ]
  },
  {
   "cell_type": "code",
   "execution_count": 288,
   "metadata": {},
   "outputs": [],
   "source": [
    "hours = list(range(24))"
   ]
  },
  {
   "cell_type": "code",
   "execution_count": 289,
   "metadata": {},
   "outputs": [
    {
     "data": {
      "text/html": [
       "<div>\n",
       "<style scoped>\n",
       "    .dataframe tbody tr th:only-of-type {\n",
       "        vertical-align: middle;\n",
       "    }\n",
       "\n",
       "    .dataframe tbody tr th {\n",
       "        vertical-align: top;\n",
       "    }\n",
       "\n",
       "    .dataframe thead th {\n",
       "        text-align: right;\n",
       "    }\n",
       "</style>\n",
       "<table border=\"1\" class=\"dataframe\">\n",
       "  <thead>\n",
       "    <tr style=\"text-align: right;\">\n",
       "      <th></th>\n",
       "      <th>WhPerMile</th>\n",
       "      <th>kWhRequested</th>\n",
       "      <th>milesRequested</th>\n",
       "      <th>minutesAvailable</th>\n",
       "      <th>paymentRequired</th>\n",
       "      <th>userID</th>\n",
       "      <th>Modified</th>\n",
       "      <th>Departure</th>\n",
       "    </tr>\n",
       "  </thead>\n",
       "  <tbody>\n",
       "    <tr>\n",
       "      <th>0</th>\n",
       "      <td>350</td>\n",
       "      <td>59.5</td>\n",
       "      <td>170</td>\n",
       "      <td>550</td>\n",
       "      <td>True</td>\n",
       "      <td>22</td>\n",
       "      <td>2018-04-30 15:08:54+00:00</td>\n",
       "      <td>2018-05-01 00:17:49+00:00</td>\n",
       "    </tr>\n",
       "    <tr>\n",
       "      <th>1</th>\n",
       "      <td>400</td>\n",
       "      <td>8.0</td>\n",
       "      <td>20</td>\n",
       "      <td>60</td>\n",
       "      <td>True</td>\n",
       "      <td>61</td>\n",
       "      <td>2018-05-07 14:38:32+00:00</td>\n",
       "      <td>2018-05-07 15:38:18+00:00</td>\n",
       "    </tr>\n",
       "    <tr>\n",
       "      <th>2</th>\n",
       "      <td>400</td>\n",
       "      <td>8.0</td>\n",
       "      <td>20</td>\n",
       "      <td>648</td>\n",
       "      <td>True</td>\n",
       "      <td>61</td>\n",
       "      <td>2018-05-07 15:40:44+00:00</td>\n",
       "      <td>2018-05-08 01:26:18+00:00</td>\n",
       "    </tr>\n",
       "    <tr>\n",
       "      <th>3</th>\n",
       "      <td>400</td>\n",
       "      <td>28.0</td>\n",
       "      <td>70</td>\n",
       "      <td>648</td>\n",
       "      <td>True</td>\n",
       "      <td>61</td>\n",
       "      <td>2018-05-07 15:41:04+00:00</td>\n",
       "      <td>2018-05-08 01:26:18+00:00</td>\n",
       "    </tr>\n",
       "    <tr>\n",
       "      <th>4</th>\n",
       "      <td>350</td>\n",
       "      <td>17.5</td>\n",
       "      <td>50</td>\n",
       "      <td>546</td>\n",
       "      <td>True</td>\n",
       "      <td>22</td>\n",
       "      <td>2018-05-11 15:18:23+00:00</td>\n",
       "      <td>2018-05-12 00:23:01+00:00</td>\n",
       "    </tr>\n",
       "  </tbody>\n",
       "</table>\n",
       "</div>"
      ],
      "text/plain": [
       "   WhPerMile  kWhRequested  milesRequested  minutesAvailable  paymentRequired  \\\n",
       "0        350          59.5             170               550             True   \n",
       "1        400           8.0              20                60             True   \n",
       "2        400           8.0              20               648             True   \n",
       "3        400          28.0              70               648             True   \n",
       "4        350          17.5              50               546             True   \n",
       "\n",
       "   userID                  Modified                 Departure  \n",
       "0      22 2018-04-30 15:08:54+00:00 2018-05-01 00:17:49+00:00  \n",
       "1      61 2018-05-07 14:38:32+00:00 2018-05-07 15:38:18+00:00  \n",
       "2      61 2018-05-07 15:40:44+00:00 2018-05-08 01:26:18+00:00  \n",
       "3      61 2018-05-07 15:41:04+00:00 2018-05-08 01:26:18+00:00  \n",
       "4      22 2018-05-11 15:18:23+00:00 2018-05-12 00:23:01+00:00  "
      ]
     },
     "execution_count": 289,
     "metadata": {},
     "output_type": "execute_result"
    }
   ],
   "source": [
    "#changong data types to datetime format for users table\n",
    "\n",
    "users_to_clean = pd.read_csv('./data/users.csv')\n",
    "users_to_clean['Modified'] = pd.to_datetime(users_to_clean.modifiedAt, infer_datetime_format=True)  \n",
    "users_to_clean['Departure'] = pd.to_datetime(users_to_clean.requestedDeparture, infer_datetime_format=True)\n",
    "users = users_to_clean.drop(columns = ['requestedDeparture', 'modifiedAt', 'Unnamed: 0'])\n",
    "users.head()"
   ]
  },
  {
   "cell_type": "code",
   "execution_count": 290,
   "metadata": {},
   "outputs": [
    {
     "data": {
      "text/html": [
       "<div>\n",
       "<style scoped>\n",
       "    .dataframe tbody tr th:only-of-type {\n",
       "        vertical-align: middle;\n",
       "    }\n",
       "\n",
       "    .dataframe tbody tr th {\n",
       "        vertical-align: top;\n",
       "    }\n",
       "\n",
       "    .dataframe thead th {\n",
       "        text-align: right;\n",
       "    }\n",
       "</style>\n",
       "<table border=\"1\" class=\"dataframe\">\n",
       "  <thead>\n",
       "    <tr style=\"text-align: right;\">\n",
       "      <th></th>\n",
       "      <th>_id</th>\n",
       "      <th>clusterID</th>\n",
       "      <th>kWhDelivered</th>\n",
       "      <th>sessionID</th>\n",
       "      <th>siteID</th>\n",
       "      <th>spaceID</th>\n",
       "      <th>stationID</th>\n",
       "      <th>timezone</th>\n",
       "      <th>userID</th>\n",
       "      <th>ConnectionTime</th>\n",
       "      <th>DisconnectTime</th>\n",
       "      <th>DoneCharging</th>\n",
       "    </tr>\n",
       "  </thead>\n",
       "  <tbody>\n",
       "    <tr>\n",
       "      <th>0</th>\n",
       "      <td>5bc90cb9f9af8b0d7fe77cd2</td>\n",
       "      <td>39</td>\n",
       "      <td>7.932</td>\n",
       "      <td>2_39_78_362_2018-04-25 11:08:04.400812</td>\n",
       "      <td>2</td>\n",
       "      <td>CA-496</td>\n",
       "      <td>2-39-78-362</td>\n",
       "      <td>America/Los_Angeles</td>\n",
       "      <td>NaN</td>\n",
       "      <td>2018-04-25 11:08:04+00:00</td>\n",
       "      <td>2018-04-25 13:20:10+00:00</td>\n",
       "      <td>2018-04-25 13:21:10+00:00</td>\n",
       "    </tr>\n",
       "    <tr>\n",
       "      <th>1</th>\n",
       "      <td>5bc90cb9f9af8b0d7fe77cd3</td>\n",
       "      <td>39</td>\n",
       "      <td>10.013</td>\n",
       "      <td>2_39_95_27_2018-04-25 13:45:09.617470</td>\n",
       "      <td>2</td>\n",
       "      <td>CA-319</td>\n",
       "      <td>2-39-95-27</td>\n",
       "      <td>America/Los_Angeles</td>\n",
       "      <td>NaN</td>\n",
       "      <td>2018-04-25 13:45:10+00:00</td>\n",
       "      <td>2018-04-26 00:56:16+00:00</td>\n",
       "      <td>2018-04-25 16:44:15+00:00</td>\n",
       "    </tr>\n",
       "    <tr>\n",
       "      <th>2</th>\n",
       "      <td>5bc90cb9f9af8b0d7fe77cd4</td>\n",
       "      <td>39</td>\n",
       "      <td>5.257</td>\n",
       "      <td>2_39_79_380_2018-04-25 13:45:49.962001</td>\n",
       "      <td>2</td>\n",
       "      <td>CA-489</td>\n",
       "      <td>2-39-79-380</td>\n",
       "      <td>America/Los_Angeles</td>\n",
       "      <td>NaN</td>\n",
       "      <td>2018-04-25 13:45:50+00:00</td>\n",
       "      <td>2018-04-25 23:04:45+00:00</td>\n",
       "      <td>2018-04-25 14:51:44+00:00</td>\n",
       "    </tr>\n",
       "    <tr>\n",
       "      <th>3</th>\n",
       "      <td>5bc90cb9f9af8b0d7fe77cd5</td>\n",
       "      <td>39</td>\n",
       "      <td>5.177</td>\n",
       "      <td>2_39_79_379_2018-04-25 14:37:06.460772</td>\n",
       "      <td>2</td>\n",
       "      <td>CA-327</td>\n",
       "      <td>2-39-79-379</td>\n",
       "      <td>America/Los_Angeles</td>\n",
       "      <td>NaN</td>\n",
       "      <td>2018-04-25 14:37:06+00:00</td>\n",
       "      <td>2018-04-25 23:55:34+00:00</td>\n",
       "      <td>2018-04-25 16:05:22+00:00</td>\n",
       "    </tr>\n",
       "    <tr>\n",
       "      <th>4</th>\n",
       "      <td>5bc90cb9f9af8b0d7fe77cd6</td>\n",
       "      <td>39</td>\n",
       "      <td>10.119</td>\n",
       "      <td>2_39_79_381_2018-04-25 14:40:33.638896</td>\n",
       "      <td>2</td>\n",
       "      <td>CA-490</td>\n",
       "      <td>2-39-79-381</td>\n",
       "      <td>America/Los_Angeles</td>\n",
       "      <td>NaN</td>\n",
       "      <td>2018-04-25 14:40:34+00:00</td>\n",
       "      <td>2018-04-25 23:03:12+00:00</td>\n",
       "      <td>2018-04-25 17:40:30+00:00</td>\n",
       "    </tr>\n",
       "  </tbody>\n",
       "</table>\n",
       "</div>"
      ],
      "text/plain": [
       "                        _id  clusterID  kWhDelivered  \\\n",
       "0  5bc90cb9f9af8b0d7fe77cd2         39         7.932   \n",
       "1  5bc90cb9f9af8b0d7fe77cd3         39        10.013   \n",
       "2  5bc90cb9f9af8b0d7fe77cd4         39         5.257   \n",
       "3  5bc90cb9f9af8b0d7fe77cd5         39         5.177   \n",
       "4  5bc90cb9f9af8b0d7fe77cd6         39        10.119   \n",
       "\n",
       "                                sessionID  siteID spaceID    stationID  \\\n",
       "0  2_39_78_362_2018-04-25 11:08:04.400812       2  CA-496  2-39-78-362   \n",
       "1   2_39_95_27_2018-04-25 13:45:09.617470       2  CA-319   2-39-95-27   \n",
       "2  2_39_79_380_2018-04-25 13:45:49.962001       2  CA-489  2-39-79-380   \n",
       "3  2_39_79_379_2018-04-25 14:37:06.460772       2  CA-327  2-39-79-379   \n",
       "4  2_39_79_381_2018-04-25 14:40:33.638896       2  CA-490  2-39-79-381   \n",
       "\n",
       "              timezone  userID            ConnectionTime  \\\n",
       "0  America/Los_Angeles     NaN 2018-04-25 11:08:04+00:00   \n",
       "1  America/Los_Angeles     NaN 2018-04-25 13:45:10+00:00   \n",
       "2  America/Los_Angeles     NaN 2018-04-25 13:45:50+00:00   \n",
       "3  America/Los_Angeles     NaN 2018-04-25 14:37:06+00:00   \n",
       "4  America/Los_Angeles     NaN 2018-04-25 14:40:34+00:00   \n",
       "\n",
       "             DisconnectTime              DoneCharging  \n",
       "0 2018-04-25 13:20:10+00:00 2018-04-25 13:21:10+00:00  \n",
       "1 2018-04-26 00:56:16+00:00 2018-04-25 16:44:15+00:00  \n",
       "2 2018-04-25 23:04:45+00:00 2018-04-25 14:51:44+00:00  \n",
       "3 2018-04-25 23:55:34+00:00 2018-04-25 16:05:22+00:00  \n",
       "4 2018-04-25 23:03:12+00:00 2018-04-25 17:40:30+00:00  "
      ]
     },
     "execution_count": 290,
     "metadata": {},
     "output_type": "execute_result"
    }
   ],
   "source": [
    "#changing data types to datetime format for users table\n",
    "\n",
    "charging_to_clean = pd.read_csv('./data/charging.csv')\n",
    "charging_to_clean['ConnectionTime'] = pd.to_datetime(charging_to_clean.connectionTime, infer_datetime_format=True) \n",
    "charging_to_clean['DisconnectTime'] = pd.to_datetime(charging_to_clean.disconnectTime, infer_datetime_format=True) \n",
    "charging_to_clean['DoneCharging'] = pd.to_datetime(charging_to_clean.doneChargingTime, infer_datetime_format=True) \n",
    "\n",
    "charging = charging_to_clean.drop(columns = ['connectionTime', 'disconnectTime', 'doneChargingTime', 'Unnamed: 0'])\n",
    "charging.head()"
   ]
  },
  {
   "cell_type": "code",
   "execution_count": 291,
   "metadata": {},
   "outputs": [
    {
     "data": {
      "text/html": [
       "<div>\n",
       "<style scoped>\n",
       "    .dataframe tbody tr th:only-of-type {\n",
       "        vertical-align: middle;\n",
       "    }\n",
       "\n",
       "    .dataframe tbody tr th {\n",
       "        vertical-align: top;\n",
       "    }\n",
       "\n",
       "    .dataframe thead th {\n",
       "        text-align: right;\n",
       "    }\n",
       "</style>\n",
       "<table border=\"1\" class=\"dataframe\">\n",
       "  <thead>\n",
       "    <tr style=\"text-align: right;\">\n",
       "      <th></th>\n",
       "      <th>clusterID</th>\n",
       "      <th>kWhDelivered</th>\n",
       "      <th>siteID</th>\n",
       "      <th>userID</th>\n",
       "    </tr>\n",
       "  </thead>\n",
       "  <tbody>\n",
       "    <tr>\n",
       "      <th>count</th>\n",
       "      <td>28042.0</td>\n",
       "      <td>28042.000000</td>\n",
       "      <td>28042.0</td>\n",
       "      <td>13275.000000</td>\n",
       "    </tr>\n",
       "    <tr>\n",
       "      <th>mean</th>\n",
       "      <td>39.0</td>\n",
       "      <td>8.898859</td>\n",
       "      <td>2.0</td>\n",
       "      <td>1093.202109</td>\n",
       "    </tr>\n",
       "    <tr>\n",
       "      <th>std</th>\n",
       "      <td>0.0</td>\n",
       "      <td>8.088413</td>\n",
       "      <td>0.0</td>\n",
       "      <td>871.109487</td>\n",
       "    </tr>\n",
       "    <tr>\n",
       "      <th>min</th>\n",
       "      <td>39.0</td>\n",
       "      <td>0.501000</td>\n",
       "      <td>2.0</td>\n",
       "      <td>1.000000</td>\n",
       "    </tr>\n",
       "    <tr>\n",
       "      <th>25%</th>\n",
       "      <td>39.0</td>\n",
       "      <td>3.422000</td>\n",
       "      <td>2.0</td>\n",
       "      <td>567.000000</td>\n",
       "    </tr>\n",
       "    <tr>\n",
       "      <th>50%</th>\n",
       "      <td>39.0</td>\n",
       "      <td>6.695000</td>\n",
       "      <td>2.0</td>\n",
       "      <td>869.000000</td>\n",
       "    </tr>\n",
       "    <tr>\n",
       "      <th>75%</th>\n",
       "      <td>39.0</td>\n",
       "      <td>12.675000</td>\n",
       "      <td>2.0</td>\n",
       "      <td>1222.000000</td>\n",
       "    </tr>\n",
       "    <tr>\n",
       "      <th>max</th>\n",
       "      <td>39.0</td>\n",
       "      <td>75.528000</td>\n",
       "      <td>2.0</td>\n",
       "      <td>6952.000000</td>\n",
       "    </tr>\n",
       "  </tbody>\n",
       "</table>\n",
       "</div>"
      ],
      "text/plain": [
       "       clusterID  kWhDelivered   siteID        userID\n",
       "count    28042.0  28042.000000  28042.0  13275.000000\n",
       "mean        39.0      8.898859      2.0   1093.202109\n",
       "std          0.0      8.088413      0.0    871.109487\n",
       "min         39.0      0.501000      2.0      1.000000\n",
       "25%         39.0      3.422000      2.0    567.000000\n",
       "50%         39.0      6.695000      2.0    869.000000\n",
       "75%         39.0     12.675000      2.0   1222.000000\n",
       "max         39.0     75.528000      2.0   6952.000000"
      ]
     },
     "execution_count": 291,
     "metadata": {},
     "output_type": "execute_result"
    }
   ],
   "source": [
    "charging.describe()"
   ]
  },
  {
   "cell_type": "code",
   "execution_count": 292,
   "metadata": {},
   "outputs": [
    {
     "data": {
      "image/png": "[encoded data removed]",
      "text/plain": [
       "<Figure size 1152x576 with 1 Axes>"
      ]
     },
     "metadata": {
      "needs_background": "light"
     },
     "output_type": "display_data"
    }
   ],
   "source": [
    "ax, fig = plt.subplots(figsize = (16,8))\n",
    "ax = sns.distplot(charging.kWhDelivered)"
   ]
  },
  {
   "cell_type": "markdown",
   "metadata": {},
   "source": [
    "## Time to charge"
   ]
  },
  {
   "cell_type": "code",
   "execution_count": 293,
   "metadata": {},
   "outputs": [],
   "source": [
    "time_to_charge = charging.DoneCharging - charging.ConnectionTime\n",
    "time = []\n",
    "for index, value in time_to_charge.items():\n",
    "    time.append(value.seconds)\n",
    "\n",
    "time = [x / 60 for x in time]"
   ]
  },
  {
   "cell_type": "code",
   "execution_count": 294,
   "metadata": {},
   "outputs": [
    {
     "data": {
      "text/plain": [
       "Text(0.5, 0, 'Time to charge, in minutes')"
      ]
     },
     "execution_count": 294,
     "metadata": {},
     "output_type": "execute_result"
    },
    {
     "data": {
      "image/png": "[encoded data removed]",
      "text/plain": [
       "<Figure size 1152x576 with 1 Axes>"
      ]
     },
     "metadata": {
      "needs_background": "light"
     },
     "output_type": "display_data"
    }
   ],
   "source": [
    "ax, fig = plt.subplots(figsize = (16,8))\n",
    "ax = sns.distplot(time)\n",
    "ax.set_xlabel('Time to charge, in minutes')"
   ]
  },
  {
   "cell_type": "code",
   "execution_count": 295,
   "metadata": {},
   "outputs": [],
   "source": [
    "time_to_charge = charging.DoneCharging - charging.ConnectionTime\n",
    "time = []\n",
    "for index, value in time_to_charge.items():\n",
    "    time.append(value.seconds)\n"
   ]
  },
  {
   "cell_type": "code",
   "execution_count": 296,
   "metadata": {},
   "outputs": [],
   "source": [
    "charging['ChargeTime'] = charging.DoneCharging - charging.ConnectionTime\n",
    "time1 = []\n",
    "for index, value in charging.ChargeTime.items():\n",
    "    time1.append(value.seconds)\n",
    "\n",
    "time1 = [x / 60 for x in time]\n",
    "charging['Time'] = time1\n"
   ]
  },
  {
   "cell_type": "code",
   "execution_count": 298,
   "metadata": {},
   "outputs": [
    {
     "data": {
      "text/plain": [
       "Text(0.5, 1.0, 'Average length of a charging session for a car arriving at certain hour')"
      ]
     },
     "execution_count": 298,
     "metadata": {},
     "output_type": "execute_result"
    },
    {
     "data": {
      "image/png": "[encoded data removed]",
      "text/plain": [
       "<Figure size 1152x432 with 1 Axes>"
      ]
     },
     "metadata": {
      "needs_background": "light"
     },
     "output_type": "display_data"
    }
   ],
   "source": [
    "#plotting average length of charging session by the hour of car arrival (start of charging session)\n",
    "plt.rcParams.update({'font.size': 16})\n",
    "charging_by_hour = charging.groupby(charging.ConnectionTime.dt.hour).mean()\n",
    "\n",
    "fig, ax = plt.subplots(figsize = (16, 6))\n",
    "y = charging_by_hour.Time\n",
    "x = hours\n",
    "ax = sns.barplot(x, y, color=\"#8ecd00\")\n",
    "ax.set_xlabel('Time of day')\n",
    "ax.set_ylabel('Charging session length (in hours)')\n",
    "ax.set_title('Average length of a charging session for a car arriving at certain hour')"
   ]
  },
  {
   "cell_type": "code",
   "execution_count": 282,
   "metadata": {},
   "outputs": [
    {
     "data": {
      "text/plain": [
       "(3.2456242137033957, 2.6265404988333776)"
      ]
     },
     "execution_count": 282,
     "metadata": {},
     "output_type": "execute_result"
    }
   ],
   "source": [
    "# filtering days sessions by day and night\n",
    "\n",
    "daymask = ((charging.ConnectionTime.dt.hour > 8) & (charging.ConnectionTime.dt.hour < 22))\n",
    "day_charging = charging[daymask]\n",
    "day_mean = day_charging.Time.mean()\n",
    "day_std = day_charging.Time.std()\n",
    "day_mean, day_std"
   ]
  },
  {
   "cell_type": "code",
   "execution_count": 263,
   "metadata": {},
   "outputs": [
    {
     "data": {
      "text/plain": [
       "<matplotlib.axes._subplots.AxesSubplot at 0x1a2e0c5c50>"
      ]
     },
     "execution_count": 263,
     "metadata": {},
     "output_type": "execute_result"
    },
    {
     "data": {
      "image/png": "[encoded data removed]",
      "text/plain": [
       "<Figure size 432x288 with 1 Axes>"
      ]
     },
     "metadata": {
      "needs_background": "light"
     },
     "output_type": "display_data"
    }
   ],
   "source": [
    "day_charging.Time.hist()"
   ]
  },
  {
   "cell_type": "code",
   "execution_count": 280,
   "metadata": {},
   "outputs": [
    {
     "data": {
      "text/plain": [
       "(2.4783384130854516, 2.80103925519423)"
      ]
     },
     "execution_count": 280,
     "metadata": {},
     "output_type": "execute_result"
    }
   ],
   "source": [
    "nightmask = ((charging.ConnectionTime.dt.hour < 8) | (charging.ConnectionTime.dt.hour > 22))\n",
    "night_charging = charging[nightmask]\n",
    "night_charging\n",
    "night_mean = night_charging.Time.mean()\n",
    "night_std = night_charging.Time.std()\n",
    "night_mean, night_std"
   ]
  },
  {
   "cell_type": "code",
   "execution_count": 264,
   "metadata": {},
   "outputs": [
    {
     "data": {
      "text/plain": [
       "<matplotlib.axes._subplots.AxesSubplot at 0x1a2b563890>"
      ]
     },
     "execution_count": 264,
     "metadata": {},
     "output_type": "execute_result"
    },
    {
     "data": {
      "image/png": "[encoded data removed]",
      "text/plain": [
       "<Figure size 432x288 with 1 Axes>"
      ]
     },
     "metadata": {
      "needs_background": "light"
     },
     "output_type": "display_data"
    }
   ],
   "source": [
    "night_charging.Time.hist()"
   ]
  },
  {
   "cell_type": "code",
   "execution_count": 279,
   "metadata": {},
   "outputs": [],
   "source": [
    "day = list(day_charging.Time)\n",
    "night = list(night_charging.Time)\n"
   ]
  },
  {
   "cell_type": "code",
   "execution_count": 278,
   "metadata": {},
   "outputs": [
    {
     "data": {
      "text/plain": [
       "Ttest_indResult(statistic=19.514765576966102, pvalue=2.31813501605428e-83)"
      ]
     },
     "execution_count": 278,
     "metadata": {},
     "output_type": "execute_result"
    }
   ],
   "source": [
    "stats.ttest_ind(day, night, equal_var=False, nan_policy = 'omit')"
   ]
  },
  {
   "cell_type": "code",
   "execution_count": null,
   "metadata": {},
   "outputs": [],
   "source": []
  }
 ],
 "metadata": {
  "kernelspec": {
   "display_name": "Python 3",
   "language": "python",
   "name": "python3"
  },
  "language_info": {
   "codemirror_mode": {
    "name": "ipython",
    "version": 3
   },
   "file_extension": ".py",
   "mimetype": "text/x-python",
   "name": "python",
   "nbconvert_exporter": "python",
   "pygments_lexer": "ipython3",
   "version": "3.7.6"
  }
 },
 "nbformat": 4,
 "nbformat_minor": 4
}
