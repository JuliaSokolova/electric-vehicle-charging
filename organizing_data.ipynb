{
 "cells": [
  {
   "cell_type": "code",
   "execution_count": 2,
   "metadata": {},
   "outputs": [],
   "source": [
    "import pandas as pd"
   ]
  },
  {
   "cell_type": "code",
   "execution_count": 5,
   "metadata": {},
   "outputs": [
    {
     "data": {
      "text/html": [
       "<div>\n",
       "<style scoped>\n",
       "    .dataframe tbody tr th:only-of-type {\n",
       "        vertical-align: middle;\n",
       "    }\n",
       "\n",
       "    .dataframe tbody tr th {\n",
       "        vertical-align: top;\n",
       "    }\n",
       "\n",
       "    .dataframe thead th {\n",
       "        text-align: right;\n",
       "    }\n",
       "</style>\n",
       "<table border=\"1\" class=\"dataframe\">\n",
       "  <thead>\n",
       "    <tr style=\"text-align: right;\">\n",
       "      <th></th>\n",
       "      <th>Unnamed: 0</th>\n",
       "      <th>WhPerMile</th>\n",
       "      <th>kWhRequested</th>\n",
       "      <th>milesRequested</th>\n",
       "      <th>minutesAvailable</th>\n",
       "      <th>modifiedAt</th>\n",
       "      <th>paymentRequired</th>\n",
       "      <th>requestedDeparture</th>\n",
       "      <th>userID</th>\n",
       "    </tr>\n",
       "  </thead>\n",
       "  <tbody>\n",
       "    <tr>\n",
       "      <th>0</th>\n",
       "      <td>0</td>\n",
       "      <td>350</td>\n",
       "      <td>59.5</td>\n",
       "      <td>170</td>\n",
       "      <td>550</td>\n",
       "      <td>Mon, 30 Apr 2018 15:08:54 GMT</td>\n",
       "      <td>True</td>\n",
       "      <td>Tue, 01 May 2018 00:17:49 GMT</td>\n",
       "      <td>22</td>\n",
       "    </tr>\n",
       "    <tr>\n",
       "      <th>1</th>\n",
       "      <td>1</td>\n",
       "      <td>400</td>\n",
       "      <td>8.0</td>\n",
       "      <td>20</td>\n",
       "      <td>60</td>\n",
       "      <td>Mon, 07 May 2018 14:38:32 GMT</td>\n",
       "      <td>True</td>\n",
       "      <td>Mon, 07 May 2018 15:38:18 GMT</td>\n",
       "      <td>61</td>\n",
       "    </tr>\n",
       "    <tr>\n",
       "      <th>2</th>\n",
       "      <td>2</td>\n",
       "      <td>400</td>\n",
       "      <td>8.0</td>\n",
       "      <td>20</td>\n",
       "      <td>648</td>\n",
       "      <td>Mon, 07 May 2018 15:40:44 GMT</td>\n",
       "      <td>True</td>\n",
       "      <td>Tue, 08 May 2018 01:26:18 GMT</td>\n",
       "      <td>61</td>\n",
       "    </tr>\n",
       "    <tr>\n",
       "      <th>3</th>\n",
       "      <td>3</td>\n",
       "      <td>400</td>\n",
       "      <td>28.0</td>\n",
       "      <td>70</td>\n",
       "      <td>648</td>\n",
       "      <td>Mon, 07 May 2018 15:41:04 GMT</td>\n",
       "      <td>True</td>\n",
       "      <td>Tue, 08 May 2018 01:26:18 GMT</td>\n",
       "      <td>61</td>\n",
       "    </tr>\n",
       "    <tr>\n",
       "      <th>4</th>\n",
       "      <td>4</td>\n",
       "      <td>350</td>\n",
       "      <td>17.5</td>\n",
       "      <td>50</td>\n",
       "      <td>546</td>\n",
       "      <td>Fri, 11 May 2018 15:18:23 GMT</td>\n",
       "      <td>True</td>\n",
       "      <td>Sat, 12 May 2018 00:23:01 GMT</td>\n",
       "      <td>22</td>\n",
       "    </tr>\n",
       "  </tbody>\n",
       "</table>\n",
       "</div>"
      ],
      "text/plain": [
       "   Unnamed: 0  WhPerMile  kWhRequested  milesRequested  minutesAvailable  \\\n",
       "0           0        350          59.5             170               550   \n",
       "1           1        400           8.0              20                60   \n",
       "2           2        400           8.0              20               648   \n",
       "3           3        400          28.0              70               648   \n",
       "4           4        350          17.5              50               546   \n",
       "\n",
       "                      modifiedAt  paymentRequired  \\\n",
       "0  Mon, 30 Apr 2018 15:08:54 GMT             True   \n",
       "1  Mon, 07 May 2018 14:38:32 GMT             True   \n",
       "2  Mon, 07 May 2018 15:40:44 GMT             True   \n",
       "3  Mon, 07 May 2018 15:41:04 GMT             True   \n",
       "4  Fri, 11 May 2018 15:18:23 GMT             True   \n",
       "\n",
       "              requestedDeparture  userID  \n",
       "0  Tue, 01 May 2018 00:17:49 GMT      22  \n",
       "1  Mon, 07 May 2018 15:38:18 GMT      61  \n",
       "2  Tue, 08 May 2018 01:26:18 GMT      61  \n",
       "3  Tue, 08 May 2018 01:26:18 GMT      61  \n",
       "4  Sat, 12 May 2018 00:23:01 GMT      22  "
      ]
     },
     "execution_count": 5,
     "metadata": {},
     "output_type": "execute_result"
    }
   ],
   "source": [
    "users = pd.read_csv('users.csv')\n",
    "users.head()"
   ]
  },
  {
   "cell_type": "code",
   "execution_count": null,
   "metadata": {},
   "outputs": [],
   "source": [
    "charging = pd.read_csv('users.csv')"
   ]
  }
 ],
 "metadata": {
  "kernelspec": {
   "display_name": "Python 3",
   "language": "python",
   "name": "python3"
  },
  "language_info": {
   "codemirror_mode": {
    "name": "ipython",
    "version": 3
   },
   "file_extension": ".py",
   "mimetype": "text/x-python",
   "name": "python",
   "nbconvert_exporter": "python",
   "pygments_lexer": "ipython3",
   "version": "3.7.6"
  }
 },
 "nbformat": 4,
 "nbformat_minor": 4
}
