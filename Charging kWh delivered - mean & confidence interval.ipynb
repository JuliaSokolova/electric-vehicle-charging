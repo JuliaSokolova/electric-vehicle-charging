{
 "cells": [
  {
   "cell_type": "code",
   "execution_count": 1,
   "metadata": {},
   "outputs": [],
   "source": [
    "import pandas as pd\n",
    "from matplotlib import pyplot as plt\n",
    "from scipy import stats\n",
    "import numpy as np\n",
    "import seaborn as sns"
   ]
  },
  {
   "cell_type": "markdown",
   "metadata": {},
   "source": [
    "# Organizing data"
   ]
  },
  {
   "cell_type": "code",
   "execution_count": 2,
   "metadata": {},
   "outputs": [
    {
     "data": {
      "text/html": [
       "<div>\n",
       "<style scoped>\n",
       "    .dataframe tbody tr th:only-of-type {\n",
       "        vertical-align: middle;\n",
       "    }\n",
       "\n",
       "    .dataframe tbody tr th {\n",
       "        vertical-align: top;\n",
       "    }\n",
       "\n",
       "    .dataframe thead th {\n",
       "        text-align: right;\n",
       "    }\n",
       "</style>\n",
       "<table border=\"1\" class=\"dataframe\">\n",
       "  <thead>\n",
       "    <tr style=\"text-align: right;\">\n",
       "      <th></th>\n",
       "      <th>WhPerMile</th>\n",
       "      <th>kWhRequested</th>\n",
       "      <th>milesRequested</th>\n",
       "      <th>minutesAvailable</th>\n",
       "      <th>paymentRequired</th>\n",
       "      <th>userID</th>\n",
       "      <th>Modified</th>\n",
       "      <th>Departure</th>\n",
       "    </tr>\n",
       "  </thead>\n",
       "  <tbody>\n",
       "    <tr>\n",
       "      <th>0</th>\n",
       "      <td>350</td>\n",
       "      <td>59.5</td>\n",
       "      <td>170</td>\n",
       "      <td>550</td>\n",
       "      <td>True</td>\n",
       "      <td>22</td>\n",
       "      <td>2018-04-30 15:08:54+00:00</td>\n",
       "      <td>2018-05-01 00:17:49+00:00</td>\n",
       "    </tr>\n",
       "    <tr>\n",
       "      <th>1</th>\n",
       "      <td>400</td>\n",
       "      <td>8.0</td>\n",
       "      <td>20</td>\n",
       "      <td>60</td>\n",
       "      <td>True</td>\n",
       "      <td>61</td>\n",
       "      <td>2018-05-07 14:38:32+00:00</td>\n",
       "      <td>2018-05-07 15:38:18+00:00</td>\n",
       "    </tr>\n",
       "    <tr>\n",
       "      <th>2</th>\n",
       "      <td>400</td>\n",
       "      <td>8.0</td>\n",
       "      <td>20</td>\n",
       "      <td>648</td>\n",
       "      <td>True</td>\n",
       "      <td>61</td>\n",
       "      <td>2018-05-07 15:40:44+00:00</td>\n",
       "      <td>2018-05-08 01:26:18+00:00</td>\n",
       "    </tr>\n",
       "    <tr>\n",
       "      <th>3</th>\n",
       "      <td>400</td>\n",
       "      <td>28.0</td>\n",
       "      <td>70</td>\n",
       "      <td>648</td>\n",
       "      <td>True</td>\n",
       "      <td>61</td>\n",
       "      <td>2018-05-07 15:41:04+00:00</td>\n",
       "      <td>2018-05-08 01:26:18+00:00</td>\n",
       "    </tr>\n",
       "    <tr>\n",
       "      <th>4</th>\n",
       "      <td>350</td>\n",
       "      <td>17.5</td>\n",
       "      <td>50</td>\n",
       "      <td>546</td>\n",
       "      <td>True</td>\n",
       "      <td>22</td>\n",
       "      <td>2018-05-11 15:18:23+00:00</td>\n",
       "      <td>2018-05-12 00:23:01+00:00</td>\n",
       "    </tr>\n",
       "  </tbody>\n",
       "</table>\n",
       "</div>"
      ],
      "text/plain": [
       "   WhPerMile  kWhRequested  milesRequested  minutesAvailable  paymentRequired  \\\n",
       "0        350          59.5             170               550             True   \n",
       "1        400           8.0              20                60             True   \n",
       "2        400           8.0              20               648             True   \n",
       "3        400          28.0              70               648             True   \n",
       "4        350          17.5              50               546             True   \n",
       "\n",
       "   userID                  Modified                 Departure  \n",
       "0      22 2018-04-30 15:08:54+00:00 2018-05-01 00:17:49+00:00  \n",
       "1      61 2018-05-07 14:38:32+00:00 2018-05-07 15:38:18+00:00  \n",
       "2      61 2018-05-07 15:40:44+00:00 2018-05-08 01:26:18+00:00  \n",
       "3      61 2018-05-07 15:41:04+00:00 2018-05-08 01:26:18+00:00  \n",
       "4      22 2018-05-11 15:18:23+00:00 2018-05-12 00:23:01+00:00  "
      ]
     },
     "execution_count": 2,
     "metadata": {},
     "output_type": "execute_result"
    }
   ],
   "source": [
    "#changong data types to datetime format for users table\n",
    "\n",
    "users_to_clean = pd.read_csv('./data/users.csv')\n",
    "users_to_clean['Modified'] = pd.to_datetime(users_to_clean.modifiedAt, infer_datetime_format=True)  \n",
    "users_to_clean['Departure'] = pd.to_datetime(users_to_clean.requestedDeparture, infer_datetime_format=True)\n",
    "users = users_to_clean.drop(columns = ['requestedDeparture', 'modifiedAt', 'Unnamed: 0'])\n",
    "users.head()"
   ]
  },
  {
   "cell_type": "code",
   "execution_count": 3,
   "metadata": {},
   "outputs": [
    {
     "data": {
      "text/html": [
       "<div>\n",
       "<style scoped>\n",
       "    .dataframe tbody tr th:only-of-type {\n",
       "        vertical-align: middle;\n",
       "    }\n",
       "\n",
       "    .dataframe tbody tr th {\n",
       "        vertical-align: top;\n",
       "    }\n",
       "\n",
       "    .dataframe thead th {\n",
       "        text-align: right;\n",
       "    }\n",
       "</style>\n",
       "<table border=\"1\" class=\"dataframe\">\n",
       "  <thead>\n",
       "    <tr style=\"text-align: right;\">\n",
       "      <th></th>\n",
       "      <th>_id</th>\n",
       "      <th>clusterID</th>\n",
       "      <th>kWhDelivered</th>\n",
       "      <th>sessionID</th>\n",
       "      <th>siteID</th>\n",
       "      <th>spaceID</th>\n",
       "      <th>stationID</th>\n",
       "      <th>timezone</th>\n",
       "      <th>userID</th>\n",
       "      <th>ConnectionTime</th>\n",
       "      <th>DisconnectTime</th>\n",
       "      <th>DoneCharging</th>\n",
       "    </tr>\n",
       "  </thead>\n",
       "  <tbody>\n",
       "    <tr>\n",
       "      <th>0</th>\n",
       "      <td>5bc90cb9f9af8b0d7fe77cd2</td>\n",
       "      <td>39</td>\n",
       "      <td>7.932</td>\n",
       "      <td>2_39_78_362_2018-04-25 11:08:04.400812</td>\n",
       "      <td>2</td>\n",
       "      <td>CA-496</td>\n",
       "      <td>2-39-78-362</td>\n",
       "      <td>America/Los_Angeles</td>\n",
       "      <td>NaN</td>\n",
       "      <td>2018-04-25 11:08:04+00:00</td>\n",
       "      <td>2018-04-25 13:20:10+00:00</td>\n",
       "      <td>2018-04-25 13:21:10+00:00</td>\n",
       "    </tr>\n",
       "    <tr>\n",
       "      <th>1</th>\n",
       "      <td>5bc90cb9f9af8b0d7fe77cd3</td>\n",
       "      <td>39</td>\n",
       "      <td>10.013</td>\n",
       "      <td>2_39_95_27_2018-04-25 13:45:09.617470</td>\n",
       "      <td>2</td>\n",
       "      <td>CA-319</td>\n",
       "      <td>2-39-95-27</td>\n",
       "      <td>America/Los_Angeles</td>\n",
       "      <td>NaN</td>\n",
       "      <td>2018-04-25 13:45:10+00:00</td>\n",
       "      <td>2018-04-26 00:56:16+00:00</td>\n",
       "      <td>2018-04-25 16:44:15+00:00</td>\n",
       "    </tr>\n",
       "    <tr>\n",
       "      <th>2</th>\n",
       "      <td>5bc90cb9f9af8b0d7fe77cd4</td>\n",
       "      <td>39</td>\n",
       "      <td>5.257</td>\n",
       "      <td>2_39_79_380_2018-04-25 13:45:49.962001</td>\n",
       "      <td>2</td>\n",
       "      <td>CA-489</td>\n",
       "      <td>2-39-79-380</td>\n",
       "      <td>America/Los_Angeles</td>\n",
       "      <td>NaN</td>\n",
       "      <td>2018-04-25 13:45:50+00:00</td>\n",
       "      <td>2018-04-25 23:04:45+00:00</td>\n",
       "      <td>2018-04-25 14:51:44+00:00</td>\n",
       "    </tr>\n",
       "    <tr>\n",
       "      <th>3</th>\n",
       "      <td>5bc90cb9f9af8b0d7fe77cd5</td>\n",
       "      <td>39</td>\n",
       "      <td>5.177</td>\n",
       "      <td>2_39_79_379_2018-04-25 14:37:06.460772</td>\n",
       "      <td>2</td>\n",
       "      <td>CA-327</td>\n",
       "      <td>2-39-79-379</td>\n",
       "      <td>America/Los_Angeles</td>\n",
       "      <td>NaN</td>\n",
       "      <td>2018-04-25 14:37:06+00:00</td>\n",
       "      <td>2018-04-25 23:55:34+00:00</td>\n",
       "      <td>2018-04-25 16:05:22+00:00</td>\n",
       "    </tr>\n",
       "    <tr>\n",
       "      <th>4</th>\n",
       "      <td>5bc90cb9f9af8b0d7fe77cd6</td>\n",
       "      <td>39</td>\n",
       "      <td>10.119</td>\n",
       "      <td>2_39_79_381_2018-04-25 14:40:33.638896</td>\n",
       "      <td>2</td>\n",
       "      <td>CA-490</td>\n",
       "      <td>2-39-79-381</td>\n",
       "      <td>America/Los_Angeles</td>\n",
       "      <td>NaN</td>\n",
       "      <td>2018-04-25 14:40:34+00:00</td>\n",
       "      <td>2018-04-25 23:03:12+00:00</td>\n",
       "      <td>2018-04-25 17:40:30+00:00</td>\n",
       "    </tr>\n",
       "  </tbody>\n",
       "</table>\n",
       "</div>"
      ],
      "text/plain": [
       "                        _id  clusterID  kWhDelivered  \\\n",
       "0  5bc90cb9f9af8b0d7fe77cd2         39         7.932   \n",
       "1  5bc90cb9f9af8b0d7fe77cd3         39        10.013   \n",
       "2  5bc90cb9f9af8b0d7fe77cd4         39         5.257   \n",
       "3  5bc90cb9f9af8b0d7fe77cd5         39         5.177   \n",
       "4  5bc90cb9f9af8b0d7fe77cd6         39        10.119   \n",
       "\n",
       "                                sessionID  siteID spaceID    stationID  \\\n",
       "0  2_39_78_362_2018-04-25 11:08:04.400812       2  CA-496  2-39-78-362   \n",
       "1   2_39_95_27_2018-04-25 13:45:09.617470       2  CA-319   2-39-95-27   \n",
       "2  2_39_79_380_2018-04-25 13:45:49.962001       2  CA-489  2-39-79-380   \n",
       "3  2_39_79_379_2018-04-25 14:37:06.460772       2  CA-327  2-39-79-379   \n",
       "4  2_39_79_381_2018-04-25 14:40:33.638896       2  CA-490  2-39-79-381   \n",
       "\n",
       "              timezone  userID            ConnectionTime  \\\n",
       "0  America/Los_Angeles     NaN 2018-04-25 11:08:04+00:00   \n",
       "1  America/Los_Angeles     NaN 2018-04-25 13:45:10+00:00   \n",
       "2  America/Los_Angeles     NaN 2018-04-25 13:45:50+00:00   \n",
       "3  America/Los_Angeles     NaN 2018-04-25 14:37:06+00:00   \n",
       "4  America/Los_Angeles     NaN 2018-04-25 14:40:34+00:00   \n",
       "\n",
       "             DisconnectTime              DoneCharging  \n",
       "0 2018-04-25 13:20:10+00:00 2018-04-25 13:21:10+00:00  \n",
       "1 2018-04-26 00:56:16+00:00 2018-04-25 16:44:15+00:00  \n",
       "2 2018-04-25 23:04:45+00:00 2018-04-25 14:51:44+00:00  \n",
       "3 2018-04-25 23:55:34+00:00 2018-04-25 16:05:22+00:00  \n",
       "4 2018-04-25 23:03:12+00:00 2018-04-25 17:40:30+00:00  "
      ]
     },
     "execution_count": 3,
     "metadata": {},
     "output_type": "execute_result"
    }
   ],
   "source": [
    "#changing data types to datetime format for users table\n",
    "\n",
    "charging_to_clean = pd.read_csv('./data/charging.csv')\n",
    "charging_to_clean['ConnectionTime'] = pd.to_datetime(charging_to_clean.connectionTime, infer_datetime_format=True) \n",
    "charging_to_clean['DisconnectTime'] = pd.to_datetime(charging_to_clean.disconnectTime, infer_datetime_format=True) \n",
    "charging_to_clean['DoneCharging'] = pd.to_datetime(charging_to_clean.doneChargingTime, infer_datetime_format=True) \n",
    "\n",
    "charging = charging_to_clean.drop(columns = ['connectionTime', 'disconnectTime', 'doneChargingTime', 'Unnamed: 0'])\n",
    "charging.head()"
   ]
  },
  {
   "cell_type": "code",
   "execution_count": 40,
   "metadata": {},
   "outputs": [
    {
     "data": {
      "text/html": [
       "<div>\n",
       "<style scoped>\n",
       "    .dataframe tbody tr th:only-of-type {\n",
       "        vertical-align: middle;\n",
       "    }\n",
       "\n",
       "    .dataframe tbody tr th {\n",
       "        vertical-align: top;\n",
       "    }\n",
       "\n",
       "    .dataframe thead th {\n",
       "        text-align: right;\n",
       "    }\n",
       "</style>\n",
       "<table border=\"1\" class=\"dataframe\">\n",
       "  <thead>\n",
       "    <tr style=\"text-align: right;\">\n",
       "      <th></th>\n",
       "      <th>clusterID</th>\n",
       "      <th>kWhDelivered</th>\n",
       "      <th>siteID</th>\n",
       "      <th>userID</th>\n",
       "    </tr>\n",
       "  </thead>\n",
       "  <tbody>\n",
       "    <tr>\n",
       "      <th>count</th>\n",
       "      <td>28042.0</td>\n",
       "      <td>28042.000000</td>\n",
       "      <td>28042.0</td>\n",
       "      <td>13275.000000</td>\n",
       "    </tr>\n",
       "    <tr>\n",
       "      <th>mean</th>\n",
       "      <td>39.0</td>\n",
       "      <td>8.898859</td>\n",
       "      <td>2.0</td>\n",
       "      <td>1093.202109</td>\n",
       "    </tr>\n",
       "    <tr>\n",
       "      <th>std</th>\n",
       "      <td>0.0</td>\n",
       "      <td>8.088413</td>\n",
       "      <td>0.0</td>\n",
       "      <td>871.109487</td>\n",
       "    </tr>\n",
       "    <tr>\n",
       "      <th>min</th>\n",
       "      <td>39.0</td>\n",
       "      <td>0.501000</td>\n",
       "      <td>2.0</td>\n",
       "      <td>1.000000</td>\n",
       "    </tr>\n",
       "    <tr>\n",
       "      <th>25%</th>\n",
       "      <td>39.0</td>\n",
       "      <td>3.422000</td>\n",
       "      <td>2.0</td>\n",
       "      <td>567.000000</td>\n",
       "    </tr>\n",
       "    <tr>\n",
       "      <th>50%</th>\n",
       "      <td>39.0</td>\n",
       "      <td>6.695000</td>\n",
       "      <td>2.0</td>\n",
       "      <td>869.000000</td>\n",
       "    </tr>\n",
       "    <tr>\n",
       "      <th>75%</th>\n",
       "      <td>39.0</td>\n",
       "      <td>12.675000</td>\n",
       "      <td>2.0</td>\n",
       "      <td>1222.000000</td>\n",
       "    </tr>\n",
       "    <tr>\n",
       "      <th>max</th>\n",
       "      <td>39.0</td>\n",
       "      <td>75.528000</td>\n",
       "      <td>2.0</td>\n",
       "      <td>6952.000000</td>\n",
       "    </tr>\n",
       "  </tbody>\n",
       "</table>\n",
       "</div>"
      ],
      "text/plain": [
       "       clusterID  kWhDelivered   siteID        userID\n",
       "count    28042.0  28042.000000  28042.0  13275.000000\n",
       "mean        39.0      8.898859      2.0   1093.202109\n",
       "std          0.0      8.088413      0.0    871.109487\n",
       "min         39.0      0.501000      2.0      1.000000\n",
       "25%         39.0      3.422000      2.0    567.000000\n",
       "50%         39.0      6.695000      2.0    869.000000\n",
       "75%         39.0     12.675000      2.0   1222.000000\n",
       "max         39.0     75.528000      2.0   6952.000000"
      ]
     },
     "execution_count": 40,
     "metadata": {},
     "output_type": "execute_result"
    }
   ],
   "source": [
    "charging.describe()"
   ]
  },
  {
   "cell_type": "code",
   "execution_count": 42,
   "metadata": {},
   "outputs": [
    {
     "data": {
      "image/png": "[encoded data removed]",
      "text/plain": [
       "<Figure size 1152x576 with 1 Axes>"
      ]
     },
     "metadata": {
      "needs_background": "light"
     },
     "output_type": "display_data"
    }
   ],
   "source": [
    "ax, fig = plt.subplots(figsize = (16,8))\n",
    "ax = sns.distplot(charging.kWhDelivered)"
   ]
  },
  {
   "cell_type": "markdown",
   "metadata": {},
   "source": [
    "## time to charge"
   ]
  },
  {
   "cell_type": "code",
   "execution_count": 110,
   "metadata": {},
   "outputs": [],
   "source": [
    "time_to_charge = charging.DoneCharging - charging.ConnectionTime\n",
    "time = []\n",
    "for index, value in time_to_charge.items():\n",
    "    time.append(value.seconds)\n",
    "\n",
    "time = [x / 60 for x in time]"
   ]
  },
  {
   "cell_type": "code",
   "execution_count": 107,
   "metadata": {},
   "outputs": [
    {
     "data": {
      "text/plain": [
       "Text(0.5, 0, 'Time to charge, in minutes')"
      ]
     },
     "execution_count": 107,
     "metadata": {},
     "output_type": "execute_result"
    },
    {
     "data": {
      "image/png": "[encoded data removed]",
      "text/plain": [
       "<Figure size 1152x576 with 1 Axes>"
      ]
     },
     "metadata": {
      "needs_background": "light"
     },
     "output_type": "display_data"
    }
   ],
   "source": [
    "ax, fig = plt.subplots(figsize = (16,8))\n",
    "ax = sns.distplot(time)\n",
    "ax.set_xlabel('Time to charge, in minutes')"
   ]
  },
  {
   "cell_type": "code",
   "execution_count": null,
   "metadata": {},
   "outputs": [],
   "source": []
  },
  {
   "cell_type": "code",
   "execution_count": null,
   "metadata": {},
   "outputs": [],
   "source": []
  },
  {
   "cell_type": "markdown",
   "metadata": {},
   "source": [
    "## choosing charging sessions for Tesla users"
   ]
  },
  {
   "cell_type": "code",
   "execution_count": 22,
   "metadata": {},
   "outputs": [
    {
     "data": {
      "text/plain": [
       "array([  61,   66,   68,   69,   75,  162,    1,  222,  232,  259,  231,\n",
       "        291,  295,  286,  290,  325,  241,  301,  303,  324,  300,  364,\n",
       "        272,  316,  289,  484,  160,  513,  489,  569,  564,  593,  627,\n",
       "        629,  159,  257,  566,  676,  258,  543,  671,  412,  541,  755,\n",
       "        869,  859,  249, 1001,  712, 1064,  516,  743,  686, 1086, 1090,\n",
       "       1091, 1092,  850, 1095,  190,  838, 1108, 1111, 1097, 1122, 1087,\n",
       "        632,  668,  858, 1124,  781,  609, 1093, 1099,  924, 1153, 1120,\n",
       "       1102, 1154,  567,  945, 1094, 1082,  777,  697, 1161, 1133,  637,\n",
       "        710,  620,  431, 1135, 1164,  875,  752, 1137, 1007, 1202, 1011,\n",
       "        744, 1222,  674, 1225, 1238,  774, 1215, 1257,  579, 1123, 1208,\n",
       "       1272, 1286, 1142, 1021, 1231,  214, 1285, 1316,   65,  669, 1325,\n",
       "       1327,  297, 1339,  560, 1110, 1359, 1364, 1366, 1367, 1384,  958,\n",
       "       1408,  423, 1293, 1346, 1453, 1473,  818, 1509, 1526, 1524,  639,\n",
       "       1546, 1236,  420, 1152, 1616, 1481, 1083, 1309, 1649, 1626,  630,\n",
       "        171, 1564, 1718, 1105, 1726, 1395, 1727, 1746, 1792, 1712,  867,\n",
       "       1816,  433, 1826, 1902, 1912, 1915, 1864, 1752, 1244,  675, 1525,\n",
       "       1953, 1604, 1336, 2038, 1089, 2069, 1356, 2087, 1957,  347, 2192,\n",
       "       1025, 2155, 2238, 2247, 2259, 2183,  440,  828,  311, 2290,  562,\n",
       "        999, 2354, 2461, 2170, 2243, 1394, 2557, 2563, 2611, 2607, 1797,\n",
       "       2737,  350, 1410,  698, 2898, 1606,  369, 1055, 3014, 2945, 3034,\n",
       "        461, 3119, 3123,  400, 1539, 2213, 3176,  891, 3267, 3222,  342,\n",
       "       3330,  563, 2972, 3389, 1397, 3447, 3449, 3456,  525, 1820, 2244,\n",
       "       1274, 3600,  379, 3648, 3577, 3711, 3751, 2291,  559,  515,  714,\n",
       "        558, 1039, 1920, 3852, 2961, 3853,  667, 2149, 1214, 2743,  438,\n",
       "        798,  362,  751,  832, 3856, 4054, 4068, 3424,  216, 1943,  419,\n",
       "       1263, 4269, 1249,  358, 1302, 3977, 4011,  565,   22, 4521, 3271,\n",
       "        634,  313,  248, 3556, 3143, 4701, 1938,  346, 4758,  243, 4969,\n",
       "       4947,  459, 4994, 5019, 4622, 5200,  533, 5368, 4913, 5471,  273,\n",
       "       5594,  315, 5768, 3818, 3038, 5855, 6025, 2275, 6097, 5758, 1458,\n",
       "       2950, 4861, 1471, 6435, 4595, 6481,  376, 6606, 6623])"
      ]
     },
     "execution_count": 22,
     "metadata": {},
     "output_type": "execute_result"
    }
   ],
   "source": [
    "#finding userIDs for Tesla cars\n",
    "msk_tesla_wpm = (users.WhPerMile > 350)\n",
    "tesla_IDs = users[msk_tesla_wpm].userID.unique()\n",
    "tesla_IDs"
   ]
  },
  {
   "cell_type": "code",
   "execution_count": 24,
   "metadata": {},
   "outputs": [
    {
     "data": {
      "text/html": [
       "<div>\n",
       "<style scoped>\n",
       "    .dataframe tbody tr th:only-of-type {\n",
       "        vertical-align: middle;\n",
       "    }\n",
       "\n",
       "    .dataframe tbody tr th {\n",
       "        vertical-align: top;\n",
       "    }\n",
       "\n",
       "    .dataframe thead th {\n",
       "        text-align: right;\n",
       "    }\n",
       "</style>\n",
       "<table border=\"1\" class=\"dataframe\">\n",
       "  <thead>\n",
       "    <tr style=\"text-align: right;\">\n",
       "      <th></th>\n",
       "      <th>clusterID</th>\n",
       "      <th>kWhDelivered</th>\n",
       "      <th>siteID</th>\n",
       "      <th>userID</th>\n",
       "    </tr>\n",
       "  </thead>\n",
       "  <tbody>\n",
       "    <tr>\n",
       "      <th>count</th>\n",
       "      <td>11879.0</td>\n",
       "      <td>11879.000000</td>\n",
       "      <td>11879.0</td>\n",
       "      <td>11879.000000</td>\n",
       "    </tr>\n",
       "    <tr>\n",
       "      <th>mean</th>\n",
       "      <td>39.0</td>\n",
       "      <td>10.021086</td>\n",
       "      <td>2.0</td>\n",
       "      <td>1091.457867</td>\n",
       "    </tr>\n",
       "    <tr>\n",
       "      <th>std</th>\n",
       "      <td>0.0</td>\n",
       "      <td>8.979298</td>\n",
       "      <td>0.0</td>\n",
       "      <td>871.541824</td>\n",
       "    </tr>\n",
       "    <tr>\n",
       "      <th>min</th>\n",
       "      <td>39.0</td>\n",
       "      <td>0.510000</td>\n",
       "      <td>2.0</td>\n",
       "      <td>1.000000</td>\n",
       "    </tr>\n",
       "    <tr>\n",
       "      <th>25%</th>\n",
       "      <td>39.0</td>\n",
       "      <td>4.268000</td>\n",
       "      <td>2.0</td>\n",
       "      <td>567.000000</td>\n",
       "    </tr>\n",
       "    <tr>\n",
       "      <th>50%</th>\n",
       "      <td>39.0</td>\n",
       "      <td>7.160000</td>\n",
       "      <td>2.0</td>\n",
       "      <td>858.000000</td>\n",
       "    </tr>\n",
       "    <tr>\n",
       "      <th>75%</th>\n",
       "      <td>39.0</td>\n",
       "      <td>12.950000</td>\n",
       "      <td>2.0</td>\n",
       "      <td>1202.000000</td>\n",
       "    </tr>\n",
       "    <tr>\n",
       "      <th>max</th>\n",
       "      <td>39.0</td>\n",
       "      <td>75.528000</td>\n",
       "      <td>2.0</td>\n",
       "      <td>6623.000000</td>\n",
       "    </tr>\n",
       "  </tbody>\n",
       "</table>\n",
       "</div>"
      ],
      "text/plain": [
       "       clusterID  kWhDelivered   siteID        userID\n",
       "count    11879.0  11879.000000  11879.0  11879.000000\n",
       "mean        39.0     10.021086      2.0   1091.457867\n",
       "std          0.0      8.979298      0.0    871.541824\n",
       "min         39.0      0.510000      2.0      1.000000\n",
       "25%         39.0      4.268000      2.0    567.000000\n",
       "50%         39.0      7.160000      2.0    858.000000\n",
       "75%         39.0     12.950000      2.0   1202.000000\n",
       "max         39.0     75.528000      2.0   6623.000000"
      ]
     },
     "execution_count": 24,
     "metadata": {},
     "output_type": "execute_result"
    }
   ],
   "source": [
    "#finding charging sessions for Tesla's userIDs\n",
    "msk_tesla = charging.userID.isin(tesla_IDs)\n",
    "tesla_charging = charging[msk_tesla]\n",
    "tesla_charging.describe()"
   ]
  },
  {
   "cell_type": "code",
   "execution_count": 36,
   "metadata": {
    "scrolled": true
   },
   "outputs": [
    {
     "data": {
      "text/plain": [
       "<matplotlib.axes._subplots.AxesSubplot at 0x1a23ab66d0>"
      ]
     },
     "execution_count": 36,
     "metadata": {},
     "output_type": "execute_result"
    },
    {
     "data": {
      "image/png": "[encoded data removed]",
      "text/plain": [
       "<Figure size 432x288 with 1 Axes>"
      ]
     },
     "metadata": {
      "needs_background": "light"
     },
     "output_type": "display_data"
    }
   ],
   "source": [
    "tesla_charging.kWhDelivered.hist()"
   ]
  },
  {
   "cell_type": "code",
   "execution_count": 189,
   "metadata": {},
   "outputs": [
    {
     "data": {
      "text/plain": [
       "array([  66,   68,  171,  176,  183,  231,  303,  311,  336,  372,  376,\n",
       "        420,  433,  444,  516,  562,  593,  609,  634,  674,  675,  724,\n",
       "        754,  781,  883,  891,  915,  958, 1083, 1091, 1102, 1126, 1152,\n",
       "       1314, 1458, 1526, 1539, 1564, 1752, 1864, 1902, 2213, 2284, 2404,\n",
       "       2950, 3143, 3876, 4622, 6049, 6638])"
      ]
     },
     "execution_count": 189,
     "metadata": {},
     "output_type": "execute_result"
    }
   ],
   "source": [
    "#finding userIDs for Smart cars\n",
    "msk_Smart = (users.kWhRequested < 16.5) & (users.WhPerMile < 321)\n",
    "smart_IDs = users[msk_Smart].userID.unique()\n",
    "\n",
    "\n",
    "msk_notSmart = charging.kWhDelivered > 16.5\n",
    "notsmart_IDs = list(charging[msk_notSmart].userID.unique())\n",
    "notsmart_IDs = notsmart_IDs[1:]\n",
    "notsmart_IDs = [int(i) for i in notsmart_IDs]\n",
    "notsmart_IDs.sort()\n",
    "notsmart_IDs\n",
    "\n",
    "for i in notsmart_IDs:\n",
    "    smart_IDs = np.delete(smart_IDs, np.argwhere(smart_IDs == i))\n",
    "\n",
    "\n",
    "smart_IDs.sort()\n",
    "smart_IDs"
   ]
  },
  {
   "cell_type": "code",
   "execution_count": 190,
   "metadata": {},
   "outputs": [
    {
     "data": {
      "text/html": [
       "<div>\n",
       "<style scoped>\n",
       "    .dataframe tbody tr th:only-of-type {\n",
       "        vertical-align: middle;\n",
       "    }\n",
       "\n",
       "    .dataframe tbody tr th {\n",
       "        vertical-align: top;\n",
       "    }\n",
       "\n",
       "    .dataframe thead th {\n",
       "        text-align: right;\n",
       "    }\n",
       "</style>\n",
       "<table border=\"1\" class=\"dataframe\">\n",
       "  <thead>\n",
       "    <tr style=\"text-align: right;\">\n",
       "      <th></th>\n",
       "      <th>clusterID</th>\n",
       "      <th>kWhDelivered</th>\n",
       "      <th>siteID</th>\n",
       "      <th>userID</th>\n",
       "    </tr>\n",
       "  </thead>\n",
       "  <tbody>\n",
       "    <tr>\n",
       "      <th>count</th>\n",
       "      <td>1823.0</td>\n",
       "      <td>1823.000000</td>\n",
       "      <td>1823.0</td>\n",
       "      <td>1823.000000</td>\n",
       "    </tr>\n",
       "    <tr>\n",
       "      <th>mean</th>\n",
       "      <td>39.0</td>\n",
       "      <td>5.709451</td>\n",
       "      <td>2.0</td>\n",
       "      <td>956.486012</td>\n",
       "    </tr>\n",
       "    <tr>\n",
       "      <th>std</th>\n",
       "      <td>0.0</td>\n",
       "      <td>3.796247</td>\n",
       "      <td>0.0</td>\n",
       "      <td>728.837038</td>\n",
       "    </tr>\n",
       "    <tr>\n",
       "      <th>min</th>\n",
       "      <td>39.0</td>\n",
       "      <td>0.525000</td>\n",
       "      <td>2.0</td>\n",
       "      <td>66.000000</td>\n",
       "    </tr>\n",
       "    <tr>\n",
       "      <th>25%</th>\n",
       "      <td>39.0</td>\n",
       "      <td>2.595000</td>\n",
       "      <td>2.0</td>\n",
       "      <td>562.000000</td>\n",
       "    </tr>\n",
       "    <tr>\n",
       "      <th>50%</th>\n",
       "      <td>39.0</td>\n",
       "      <td>4.877000</td>\n",
       "      <td>2.0</td>\n",
       "      <td>891.000000</td>\n",
       "    </tr>\n",
       "    <tr>\n",
       "      <th>75%</th>\n",
       "      <td>39.0</td>\n",
       "      <td>7.024500</td>\n",
       "      <td>2.0</td>\n",
       "      <td>1091.000000</td>\n",
       "    </tr>\n",
       "    <tr>\n",
       "      <th>max</th>\n",
       "      <td>39.0</td>\n",
       "      <td>16.478000</td>\n",
       "      <td>2.0</td>\n",
       "      <td>6638.000000</td>\n",
       "    </tr>\n",
       "  </tbody>\n",
       "</table>\n",
       "</div>"
      ],
      "text/plain": [
       "       clusterID  kWhDelivered  siteID       userID\n",
       "count     1823.0   1823.000000  1823.0  1823.000000\n",
       "mean        39.0      5.709451     2.0   956.486012\n",
       "std          0.0      3.796247     0.0   728.837038\n",
       "min         39.0      0.525000     2.0    66.000000\n",
       "25%         39.0      2.595000     2.0   562.000000\n",
       "50%         39.0      4.877000     2.0   891.000000\n",
       "75%         39.0      7.024500     2.0  1091.000000\n",
       "max         39.0     16.478000     2.0  6638.000000"
      ]
     },
     "execution_count": 190,
     "metadata": {},
     "output_type": "execute_result"
    }
   ],
   "source": [
    "#finding charging sessions for Smart's userIDs\n",
    "msk_smart = charging.userID.isin(smart_IDs)\n",
    "smart_charging = charging[msk_smart]\n",
    "smart_charging.describe()"
   ]
  },
  {
   "cell_type": "code",
   "execution_count": 191,
   "metadata": {},
   "outputs": [
    {
     "data": {
      "text/plain": [
       "<matplotlib.axes._subplots.AxesSubplot at 0x1a293b1fd0>"
      ]
     },
     "execution_count": 191,
     "metadata": {},
     "output_type": "execute_result"
    },
    {
     "data": {
      "image/png": "[encoded data removed]",
      "text/plain": [
       "<Figure size 432x288 with 1 Axes>"
      ]
     },
     "metadata": {
      "needs_background": "light"
     },
     "output_type": "display_data"
    }
   ],
   "source": [
    "smart_charging.kWhDelivered.hist()"
   ]
  },
  {
   "cell_type": "code",
   "execution_count": null,
   "metadata": {},
   "outputs": [],
   "source": []
  },
  {
   "cell_type": "code",
   "execution_count": null,
   "metadata": {},
   "outputs": [],
   "source": []
  }
 ],
 "metadata": {
  "kernelspec": {
   "display_name": "Python 3",
   "language": "python",
   "name": "python3"
  },
  "language_info": {
   "codemirror_mode": {
    "name": "ipython",
    "version": 3
   },
   "file_extension": ".py",
   "mimetype": "text/x-python",
   "name": "python",
   "nbconvert_exporter": "python",
   "pygments_lexer": "ipython3",
   "version": "3.7.6"
  }
 },
 "nbformat": 4,
 "nbformat_minor": 4
}
